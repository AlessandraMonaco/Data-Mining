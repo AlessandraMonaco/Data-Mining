{
  "nbformat": 4,
  "nbformat_minor": 0,
  "metadata": {
    "colab": {
      "name": "DM_HW3_EX1.ipynb",
      "provenance": [],
      "collapsed_sections": [],
      "toc_visible": true
    },
    "kernelspec": {
      "name": "python3",
      "display_name": "Python 3"
    }
  },
  "cells": [
    {
      "cell_type": "markdown",
      "metadata": {
        "id": "Yu-V4LzUZzBF"
      },
      "source": [
        "# **NEAREST NEIGHBOR SEARCH FOR TEXT DOCUMENTS WITH LSH**\n",
        "\n",
        "\n",
        "\n",
        "---\n",
        "\n",
        "In this notebook we will implement Locality Sensitive Hashing to detect pairs of duplicates in the dataset of Computer product descriptions from Amazon.\n",
        "\n",
        "We will use a family of Cryptographic hashing functions and we will compare the results obtained with the results of the pairwise comparison on shingles. Also, the running time required to find duplicate pairs will be compared.\n"
      ]
    },
    {
      "cell_type": "code",
      "metadata": {
        "id": "LSfZFbZNZWQ-"
      },
      "source": [
        "import re\n",
        "import pandas as pd\n",
        "import hashlib\n",
        "import numpy as np\n",
        "import itertools\n",
        "import time"
      ],
      "execution_count": null,
      "outputs": []
    },
    {
      "cell_type": "markdown",
      "metadata": {
        "id": "fak29YGAaKuf"
      },
      "source": [
        "## Importing the product dataset"
      ]
    },
    {
      "cell_type": "code",
      "metadata": {
        "colab": {
          "base_uri": "https://localhost:8080/",
          "height": 937
        },
        "id": "pAIVv1DhbNbi",
        "outputId": "68e07f05-9ab4-4ecc-97e2-48ae45c1ff65"
      },
      "source": [
        "df = pd.read_csv(r'computer.tsv', sep='\\t' )\n",
        "pd.set_option('display.max_colwidth', -1)\n",
        "\n",
        "print(df.shape)\n",
        "df.head(10)"
      ],
      "execution_count": null,
      "outputs": [
        {
          "output_type": "stream",
          "text": [
            "(306, 5)\n"
          ],
          "name": "stdout"
        },
        {
          "output_type": "stream",
          "text": [
            "/usr/local/lib/python3.6/dist-packages/ipykernel_launcher.py:2: FutureWarning: Passing a negative integer is deprecated in version 1.0 and will not be supported in future version. Instead, use None to not limit the column width.\n",
            "  \n"
          ],
          "name": "stderr"
        },
        {
          "output_type": "execute_result",
          "data": {
            "text/html": [
              "<div>\n",
              "<style scoped>\n",
              "    .dataframe tbody tr th:only-of-type {\n",
              "        vertical-align: middle;\n",
              "    }\n",
              "\n",
              "    .dataframe tbody tr th {\n",
              "        vertical-align: top;\n",
              "    }\n",
              "\n",
              "    .dataframe thead th {\n",
              "        text-align: right;\n",
              "    }\n",
              "</style>\n",
              "<table border=\"1\" class=\"dataframe\">\n",
              "  <thead>\n",
              "    <tr style=\"text-align: right;\">\n",
              "      <th></th>\n",
              "      <th>Description</th>\n",
              "      <th>Price</th>\n",
              "      <th>Prime</th>\n",
              "      <th>Url</th>\n",
              "      <th>Ratings</th>\n",
              "    </tr>\n",
              "  </thead>\n",
              "  <tbody>\n",
              "    <tr>\n",
              "      <th>0</th>\n",
              "      <td>Computer portatile da 15,6 pollici, CPU Intel N3350, Windows 10 Pro OS,4 GB RAM 64 GB SSD, Full HD 1920 x 1080</td>\n",
              "      <td>298,00 €</td>\n",
              "      <td>1</td>\n",
              "      <td>/Computer-portatile-pollici-Intel-Windows/dp/B08KFZNGGH/ref=sr_1_1?dchild=1&amp;keywords=computer&amp;qid=1604664192&amp;sr=8-1</td>\n",
              "      <td>-1</td>\n",
              "    </tr>\n",
              "    <tr>\n",
              "      <th>1</th>\n",
              "      <td>PC DELL 7010 SFF Intel Core i5 3470 3.20Ghz/RAM 8GB/500GB/DVD+RW/WIN 10 PRO (Ricondizionato)</td>\n",
              "      <td>167,99 €</td>\n",
              "      <td>0</td>\n",
              "      <td>/DELL-Intel-3-20Ghz-500GB-Ricondizionato/dp/B07RK9N3WM/ref=sr_1_2?dchild=1&amp;keywords=computer&amp;qid=1604664192&amp;sr=8-2</td>\n",
              "      <td>4,3</td>\n",
              "    </tr>\n",
              "    <tr>\n",
              "      <th>2</th>\n",
              "      <td>Laptop da 14 pollici (Intel Celeron a 64 bit, 4 GB di RAM DDR3, 64 GB di eMMC, batteria da 10000 Mah, webcam HD, sistema operativo Windows 10 preinstallato, display IPS 1366 * 768 FHD) Notebook</td>\n",
              "      <td>254,99 €</td>\n",
              "      <td>1</td>\n",
              "      <td>/pollici-batteria-operativo-preinstallato-Notebook/dp/B08BHRW3KB/ref=sr_1_3?dchild=1&amp;keywords=computer&amp;qid=1604664192&amp;sr=8-3</td>\n",
              "      <td>2,2</td>\n",
              "    </tr>\n",
              "    <tr>\n",
              "      <th>3</th>\n",
              "      <td>HUAWEI MateBook 14 Laptop, Ultrabook DisplayFullView 2K , AMD Ryzen 7 4800H, 16GB RAM, SSD da 512GB PCIe , Fingerabdrucksensor, Huawei Share, Windows 10 Home, Space Gray, KelvinL-WFE9B</td>\n",
              "      <td>1.099,00 €</td>\n",
              "      <td>1</td>\n",
              "      <td>/HUAWEI-Ultrabook-DisplayFullView-Fingerabdrucksensor-KelvinL-WFE9B/dp/B08J83G2M8/ref=sr_1_4?dchild=1&amp;keywords=computer&amp;qid=1604664192&amp;sr=8-4</td>\n",
              "      <td>4,3</td>\n",
              "    </tr>\n",
              "    <tr>\n",
              "      <th>4</th>\n",
              "      <td>Acer Chromebook 314 CB314-1H-C2W1 Notebook, Pc Portatile con Processore Intel Celeron N4000, Ram 4GB DDR4, eMMC 64 GB, Display 14\" Full HD LED LCD, Scheda Grafica Intel, Chrome OS, Silver, [CB]</td>\n",
              "      <td>349,00 €</td>\n",
              "      <td>1</td>\n",
              "      <td>/Acer-Chromebook-CB314-1H-C2W1-Portatile-Processore/dp/B0855696F5/ref=sr_1_5?dchild=1&amp;keywords=computer&amp;qid=1604664192&amp;sr=8-5</td>\n",
              "      <td>4,3</td>\n",
              "    </tr>\n",
              "    <tr>\n",
              "      <th>5</th>\n",
              "      <td>Pc portatile 14 Pollici TECLAST F7S Computer Portatile Intel Celeron N3350,128 GB SSD, 8 GB RAM, 4K, 1920 x 1080, Windows 10 Grigio</td>\n",
              "      <td>294,99 €</td>\n",
              "      <td>1</td>\n",
              "      <td>/portatile-TECLAST-F7S-Computer-Portatile/dp/B089QDVXYB/ref=sr_1_6?dchild=1&amp;keywords=computer&amp;qid=1604664192&amp;sr=8-6</td>\n",
              "      <td>3,7</td>\n",
              "    </tr>\n",
              "    <tr>\n",
              "      <th>6</th>\n",
              "      <td>Lenovo IdeaPad Slim 1 Notebook, Display 14\" HD, Processore AMD A4-9120e, 64 GB eMMC 5.1, RAM 4 GB, Windows 10, Platinum Grey</td>\n",
              "      <td>0 €</td>\n",
              "      <td>0</td>\n",
              "      <td>/Lenovo-Notebook-Processore-A4-9120e-Platinum/dp/B089NXQXWD/ref=sr_1_7?dchild=1&amp;keywords=computer&amp;qid=1604664192&amp;sr=8-7</td>\n",
              "      <td>4,1</td>\n",
              "    </tr>\n",
              "    <tr>\n",
              "      <th>7</th>\n",
              "      <td>HP – PC 15s-eq0021nl Notebook, AMD Ryzen 3, RAM 8 GB, SSD 256 GB, Grafica AMD Radeon Vega 3, Windows 10 Home S, Schermo 15” FHD SVA Antiriflesso, Micro-Edge, Fast Charge, Lettore SD/Micro SD, Argento</td>\n",
              "      <td>0 €</td>\n",
              "      <td>0</td>\n",
              "      <td>/HP-eq0021nl-Notebook-Antiriflesso-Micro-Edge/dp/B082YMS5Q1/ref=sr_1_8?dchild=1&amp;keywords=computer&amp;qid=1604664192&amp;sr=8-8</td>\n",
              "      <td>4,4</td>\n",
              "    </tr>\n",
              "    <tr>\n",
              "      <th>8</th>\n",
              "      <td>ACEPC AK1 Mini PC,Windows 10(64 bit) Computer desktop Intel Celeron Apollo Lake J3455 (fino a 2,3GHz) Computer desktop[8GB/120GB/Supporto SSD da 2,5\"/ SSD mSATA/Doppio WiFi/Gigabit Ethernet/BT 4.2/4K]</td>\n",
              "      <td>249,90 €</td>\n",
              "      <td>1</td>\n",
              "      <td>/ACEPC-AK1-Computer-Supporto-Ethernet/dp/B07SKGGGP7/ref=sr_1_9?dchild=1&amp;keywords=computer&amp;qid=1604664192&amp;sr=8-9</td>\n",
              "      <td>4,4</td>\n",
              "    </tr>\n",
              "    <tr>\n",
              "      <th>9</th>\n",
              "      <td>Lenovo IdeaPad Flex 5 Notebook Convertibile, Display 14\" Full HD Touch, Processore Intel Core i5-1035G1, 512 GB SSD, RAM 8 GB, Fingerprint, Lenovo Digital Pen, Windows 10, Graphite Grey</td>\n",
              "      <td>899,99 €</td>\n",
              "      <td>1</td>\n",
              "      <td>/Lenovo-Convertibile-Processore-i5-1035G1-Fingerprint/dp/B089NWXD2L/ref=sr_1_10?dchild=1&amp;keywords=computer&amp;qid=1604664192&amp;sr=8-10</td>\n",
              "      <td>4,2</td>\n",
              "    </tr>\n",
              "  </tbody>\n",
              "</table>\n",
              "</div>"
            ],
            "text/plain": [
              "                                                                                                                                                                                                Description  ... Ratings\n",
              "0  Computer portatile da 15,6 pollici, CPU Intel N3350, Windows 10 Pro OS,4 GB RAM 64 GB SSD, Full HD 1920 x 1080                                                                                            ...  -1    \n",
              "1  PC DELL 7010 SFF Intel Core i5 3470 3.20Ghz/RAM 8GB/500GB/DVD+RW/WIN 10 PRO (Ricondizionato)                                                                                                              ...  4,3   \n",
              "2  Laptop da 14 pollici (Intel Celeron a 64 bit, 4 GB di RAM DDR3, 64 GB di eMMC, batteria da 10000 Mah, webcam HD, sistema operativo Windows 10 preinstallato, display IPS 1366 * 768 FHD) Notebook         ...  2,2   \n",
              "3  HUAWEI MateBook 14 Laptop, Ultrabook DisplayFullView 2K , AMD Ryzen 7 4800H, 16GB RAM, SSD da 512GB PCIe , Fingerabdrucksensor, Huawei Share, Windows 10 Home, Space Gray, KelvinL-WFE9B                  ...  4,3   \n",
              "4  Acer Chromebook 314 CB314-1H-C2W1 Notebook, Pc Portatile con Processore Intel Celeron N4000, Ram 4GB DDR4, eMMC 64 GB, Display 14\" Full HD LED LCD, Scheda Grafica Intel, Chrome OS, Silver, [CB]         ...  4,3   \n",
              "5  Pc portatile 14 Pollici TECLAST F7S Computer Portatile Intel Celeron N3350,128 GB SSD, 8 GB RAM, 4K, 1920 x 1080, Windows 10 Grigio                                                                       ...  3,7   \n",
              "6  Lenovo IdeaPad Slim 1 Notebook, Display 14\" HD, Processore AMD A4-9120e, 64 GB eMMC 5.1, RAM 4 GB, Windows 10, Platinum Grey                                                                              ...  4,1   \n",
              "7  HP – PC 15s-eq0021nl Notebook, AMD Ryzen 3, RAM 8 GB, SSD 256 GB, Grafica AMD Radeon Vega 3, Windows 10 Home S, Schermo 15” FHD SVA Antiriflesso, Micro-Edge, Fast Charge, Lettore SD/Micro SD, Argento   ...  4,4   \n",
              "8  ACEPC AK1 Mini PC,Windows 10(64 bit) Computer desktop Intel Celeron Apollo Lake J3455 (fino a 2,3GHz) Computer desktop[8GB/120GB/Supporto SSD da 2,5\"/ SSD mSATA/Doppio WiFi/Gigabit Ethernet/BT 4.2/4K]  ...  4,4   \n",
              "9  Lenovo IdeaPad Flex 5 Notebook Convertibile, Display 14\" Full HD Touch, Processore Intel Core i5-1035G1, 512 GB SSD, RAM 8 GB, Fingerprint, Lenovo Digital Pen, Windows 10, Graphite Grey                 ...  4,2   \n",
              "\n",
              "[10 rows x 5 columns]"
            ]
          },
          "metadata": {
            "tags": []
          },
          "execution_count": 160
        }
      ]
    },
    {
      "cell_type": "markdown",
      "metadata": {
        "id": "DsUdNCbWZumw"
      },
      "source": [
        "## Implementing the classes and the methods\n",
        "\n"
      ]
    },
    {
      "cell_type": "markdown",
      "metadata": {
        "id": "ukQtqx8yw6t4"
      },
      "source": [
        "**SHINGLING**\n",
        "1. Implement a class that, given a document, creates its set of character shingles of some length k.\n",
        "Then represent the document as the set of the hashes of the shingles, for some hash function."
      ]
    },
    {
      "cell_type": "code",
      "metadata": {
        "colab": {
          "base_uri": "https://localhost:8080/"
        },
        "id": "A-3dHjUCWxfU",
        "outputId": "43cf9610-955d-4bf4-ca83-7b3f9e696676"
      },
      "source": [
        "class ShinglingClass():\n",
        "\n",
        "\n",
        "  # This function creates shingles of length k\n",
        "  def shingling(self,text, k):\n",
        "\n",
        "    #Some preprocessing\n",
        "    text = text.lower()\n",
        "    text = re.sub(r'[^\\w]', ' ', text) #substitute symbols with spaces\n",
        "    text = re.sub(\"  \", \" \",text) #remove multiple spaces (can be generated by previous line)\n",
        "    #We decide to keep the spaces in the shingling, to decrease the false positives,\n",
        "    #for example, we want to distinguish between 'plane has touch down' and 'threw a touchdown'.\n",
        "\n",
        "    # WORD-LEVEL SHINGLING-----------------------------------------------------\n",
        "    #tokens = text.split()\n",
        "    #return [' '.join(tokens[i:i+k])\n",
        "    #                 for i in range(len(tokens) - k + 1)]\n",
        "\n",
        "    #CHARACTER-LEVEL SHINGLING\n",
        "    s_list = [text[i:i + k] for i in range(len(text) - k + 1)]\n",
        "    return set(s_list)\n",
        "\n",
        "\n",
        "\n",
        "  # This function creates the hash of the shingles\n",
        "  def hash_shingles(self,shingles):\n",
        "    hashed_shingles = []\n",
        "    for shingle in shingles:\n",
        "      hashed_shingles.append(hash(shingle))\n",
        "    return hashed_shingles\n",
        "\n",
        "\n",
        "#-------------------------------------------------------------------------------\n",
        "#How it works: this is an example\n",
        "x = \"Ciao0  ciao.0\"\n",
        "shing = ShinglingClass()\n",
        "print(x)\n",
        "print(len(x))\n",
        "sh = shing.shingling(x,5)\n",
        "print(len(sh))\n",
        "print(sh)\n",
        "print(shing.hash_shingles(sh))\n",
        "\n",
        "  "
      ],
      "execution_count": null,
      "outputs": [
        {
          "output_type": "stream",
          "text": [
            "Ciao0  ciao.0\n",
            "13\n",
            "8\n",
            "{'ciao ', ' ciao', '0 cia', 'iao 0', 'ciao0', 'iao0 ', 'ao0 c', 'o0 ci'}\n",
            "[-5738604203726370592, 8366194963876463625, 5170184148546514892, -1805593592384820244, 2886255221790268759, -8608254069412878832, 1551742201392623799, -3858830786513922466]\n",
            "8\n"
          ],
          "name": "stdout"
        }
      ]
    },
    {
      "cell_type": "markdown",
      "metadata": {
        "id": "aI276iCNxKn8"
      },
      "source": [
        "**MIN-HASHING**\n",
        "2. Implement a class, that given a collection of sets of objects (e.g., strings, or numbers), creates\n",
        "a minwise hashing based signature for each set."
      ]
    },
    {
      "cell_type": "markdown",
      "metadata": {
        "id": "GxmGU4cCxaf2"
      },
      "source": [
        "First, we need to define a **hash family** to simulate the n random permutations of the rows of the characteristic matrix."
      ]
    },
    {
      "cell_type": "code",
      "metadata": {
        "id": "M2TVZ8FVCUIM",
        "colab": {
          "base_uri": "https://localhost:8080/"
        },
        "outputId": "cec52e06-c84b-4125-a44f-817dee31914b"
      },
      "source": [
        "# Implement a family of hash functions. It hashes strings and takes an\n",
        "# integer to define the member of the family.\n",
        "# Return a hash function parametrized by i\n",
        "\n",
        "def hashFamily(i):\n",
        "  resultSize = 8 # how many bytes we want back\n",
        "  maxLen = 20 # how long can our i be (in decimal)\n",
        "  salt = str(i).zfill(maxLen)[-maxLen:]\n",
        "  def hashMember(x):\n",
        "    return hashlib.sha1((x + salt).encode()).digest()[-resultSize:]\n",
        "  return hashMember\n",
        "\n",
        "\n",
        "#-----------------------------------------------------------------------------------\n",
        " #h_i = hashFamily(i) is the i-th hash function of the family\n",
        " #Calling h_i('0') you create the hash of the string '0'\n",
        "hh = hashFamily(2)\n",
        "print(hh('0'), hh('1'))\n",
        "\n",
        "#.digest() returns a binary output => for example b'WT\\x11\\xea8-\\xe7\\xd8'\n",
        "#.hexdigest() returns an hexadecimal output => for example 382de7d8"
      ],
      "execution_count": null,
      "outputs": [
        {
          "output_type": "stream",
          "text": [
            "b'C\\xa5\\x001M#[<' b'\\xcfN\\x0f4;\\xdfC\\x8e'\n"
          ],
          "name": "stdout"
        }
      ]
    },
    {
      "cell_type": "markdown",
      "metadata": {
        "id": "2k5B-v4WyCWs"
      },
      "source": [
        "Now we implement the class to compute the characteristic matrix and builds the correspondent **signature matrix**, using n hash functions. "
      ]
    },
    {
      "cell_type": "code",
      "metadata": {
        "id": "4BZfnRWZgMeb"
      },
      "source": [
        "#sets should be a 2d list\n",
        "class MinHashingClass():\n",
        "\n",
        "  def __init__(self, sets): \n",
        "        self.sets = sets #instance variable unique to each instance of MinHashingClass\n",
        "        self.universal_set = [] #set of all distinct shingles (string or hashed format)\n",
        "\n",
        "  def to_characteristic_matrix(self):\n",
        "    \n",
        "    #Define the universal set from the collection\n",
        "    for set in self.sets:\n",
        "      for shingle in set:\n",
        "        if (shingle not in self.universal_set):\n",
        "          self.universal_set.append(shingle)\n",
        "    \n",
        "\n",
        "    #Translate the list of sets into a boolean characteristic matrix:\n",
        "    # M(i,j)=1 if shingle i is contained in set j\n",
        "\n",
        "    #Initialization of the characteristic matrix\n",
        "    n_sets = len(self.sets)\n",
        "    n_shingles = len(self.universal_set)\n",
        "    M = np.zeros(shape=(n_shingles,n_sets))\n",
        "    #Buiding the matrix\n",
        "    for row in range(0,n_shingles):\n",
        "      for col in range(0,n_sets):\n",
        "        if (self.universal_set[row] in self.sets[col]):\n",
        "          M[row][col] = 1\n",
        "    return M\n",
        "  \n",
        "  \n",
        "  def to_signature_matrix(self,M,n):\n",
        "    #n is the number of taken hash functions of the family\n",
        "\n",
        "    #dimensions of M:\n",
        "    n_rows = len(M)\n",
        "    n_cols = len(M[0])\n",
        "\n",
        "    #Initialize all entries to infinite\n",
        "    sig = np.full((n, n_cols), b'')\n",
        "    h = np.full(n, b'')\n",
        "\n",
        "    for r in range(0,n_rows):\n",
        "      for i in range(0,n):\n",
        "        hashf = hashFamily(i)\n",
        "        h[i] = hashf(str(r))\n",
        "\n",
        "      for c in range(n_cols):\n",
        "        if ( M[r][c]==1 ):\n",
        "          for i in range(0,n):\n",
        "            if (np.array_equal(sig[i][c], b'')):\n",
        "              sig[i][c] = h[i]\n",
        "            if ( sig[i][c] < h[i] ):\n",
        "              sig[i][c] = sig[i][c]\n",
        "            else:\n",
        "              sig[i][c] = h[i]\n",
        "    return sig\n",
        "\n"
      ],
      "execution_count": null,
      "outputs": []
    },
    {
      "cell_type": "markdown",
      "metadata": {
        "id": "sXPa2oMhzZAh"
      },
      "source": [
        "**LOCALITY SENSITIVE HASHING**\n",
        "3. Implement a class that implements the locally sensitive hashing (LSH) technique, so that,\n",
        "given a collection of minwise hash signatures of a set of documents, it \fnds the all the\n",
        "documents pairs that are near each other."
      ]
    },
    {
      "cell_type": "markdown",
      "metadata": {
        "id": "7hlHa0dBv_7R"
      },
      "source": [
        "The **similarity on the signature matrix** is defined as the fraction of the hash functions in which the two signatures agree, so it is the number of rows with the same value divided by the number of total rows."
      ]
    },
    {
      "cell_type": "code",
      "metadata": {
        "id": "nnac1oKKtc_v"
      },
      "source": [
        "def signature_similarity(sig1,sig2):\n",
        "  n = len(sig1)\n",
        "  intersection = 0\n",
        "\n",
        "  for i in range(n):\n",
        "    if (sig1[i]==sig2[i]):\n",
        "      intersection += 1\n",
        "  \n",
        "  return intersection/n\n"
      ],
      "execution_count": null,
      "outputs": []
    },
    {
      "cell_type": "markdown",
      "metadata": {
        "id": "3LVcy4LVzy80"
      },
      "source": [
        "LSH class to find nearest duplicates:"
      ]
    },
    {
      "cell_type": "code",
      "metadata": {
        "id": "MW3C81YVlpDx"
      },
      "source": [
        "class LSHClass():\n",
        "\n",
        "  def __init__(self, s, b): \n",
        "    self.s = s #similarity threshold\n",
        "    self.b = b #number of bands\n",
        "    self.candidates = []\n",
        "    #self.similarity_scores = []\n",
        "\n",
        "\n",
        "  def get_candidates(self, sig):\n",
        "    #returns a list of duplicate docs through their IDs\n",
        "\n",
        "    n_cols = len(sig[0]) #a row has n_cols columns\n",
        "    n_rows = len(sig) \n",
        "    candidates = [] #pairs of docs ending up in the same bucket for at least 1 band\n",
        "    duplicates = [] #candidates having similarity score > s\n",
        "    sim_scores = [] #similarity scores of the detected duplicates\n",
        "\n",
        "    #Split the signature matrix into b bands:\n",
        "    bands = np.split(sig, self.b) #bands is a list of numpy arrays\n",
        "\n",
        "    #hash_table is a data structure that allows to store key (hash) value (column=>set=>doc) pairs\n",
        "    #If two cols agree on all rows of a band, they end up in the same bucket for that band\n",
        "    hash_table = [] #list of bucket dictionaries \n",
        "    # we need a different bucket dictionary for each band so columns with the same vector\n",
        "    #   in different bands will not hash to the same bucket.\n",
        "    for band in bands:\n",
        "      band_buckets = dict()\n",
        "      for col in range(n_cols):\n",
        "        col_portion = band[:, col]\n",
        "        col_portion = hash(col_portion.tostring())\n",
        "        # we store the index of the column in the key correspondent to the hash \n",
        "        #   of the portion of the column in that band\n",
        "        band_buckets.setdefault(col_portion,[]).append(col) \n",
        "      hash_table.append(band_buckets)\n",
        "\n",
        "    #Check for candidate pairs\n",
        "    for band_buckets in hash_table:\n",
        "      for k,v in band_buckets.items():\n",
        "        if ( len(band_buckets[k]) > 1 ):\n",
        "          #create pairs between elements\n",
        "          for pair in itertools.combinations(v,2):\n",
        "            candidates.append(pair)\n",
        "\n",
        "    self.candidates = set(candidates)\n",
        "    return set(candidates)\n",
        "\n",
        "\n",
        "  def post_filter_candidates(self):\n",
        "\n",
        "    #Now we take the candidates and we check if their similarity is >= threshold s\n",
        "    filtered_candidates = []\n",
        "    for pair in self.candidates:\n",
        "      index_col1 = pair[0]\n",
        "      index_col2 = pair[1]\n",
        "      #Compute the similarity between the two columns in the signature matrix\n",
        "      col1 = sig[:, index_col1]\n",
        "      col2 = sig[:, index_col2]\n",
        "      sim_score = signature_similarity(col1,col2)\n",
        "\n",
        "      if (sim_score >= self.s):\n",
        "        filtered_candidates.append(pair)\n",
        "        #sim_scores.append(sim_score)\n",
        "\n",
        "    #self.similarity_scores = sim_scores\n",
        "    \n",
        "    return filtered_candidates"
      ],
      "execution_count": null,
      "outputs": []
    },
    {
      "cell_type": "markdown",
      "metadata": {
        "id": "khkDCVEwCLmB"
      },
      "source": [
        "**SHINGLE JACCARD**\n",
        "4. To test the LSH algorithm, also implement a class that given the shingles of each of the documents, finds the nearest neighbors by comparing all the shingle sets with each other."
      ]
    },
    {
      "cell_type": "code",
      "metadata": {
        "id": "3VnqQQ3OChWz"
      },
      "source": [
        "class NearestNeighbors():\n",
        "  \n",
        "  def __init__(self): \n",
        "    self.neighbors = [] \n",
        "    self.scores = []\n",
        "    self.n_combinations = 0\n",
        "\n",
        "  #Computes Jaccard similarity between two sets\n",
        "  def compute_jaccard (self,A,B):\n",
        "    A = set(A)\n",
        "    B = set(B)\n",
        "    intersection = len(A.intersection(B))\n",
        "    union = len(A.union(B))\n",
        "    jaccard = intersection / union\n",
        "\n",
        "    return jaccard\n",
        "  \n",
        "  def find_neighbors(self, sets ):\n",
        "\n",
        "    scores = []\n",
        "    neighbors = []\n",
        "    all_combinations = 0\n",
        "\n",
        "    #Generate all pairs of columns \n",
        "    n_sets = len(sets)\n",
        "    docIDs = []\n",
        "    pairs = []\n",
        "\n",
        "    for i in range(n_sets):\n",
        "      docIDs.append(i)\n",
        "    for pair in itertools.combinations(docIDs,2):\n",
        "      all_combinations += 1\n",
        "      #Compute jaccard coefficient\n",
        "      A = sets[pair[0]]\n",
        "      B = sets[pair[1]]\n",
        "      jaccard = self.compute_jaccard(A,B)\n",
        "      if (jaccard >= 0.8):\n",
        "        scores.append(jaccard)\n",
        "        neighbors.append(pair)\n",
        "\n",
        "    self.neighbors = neighbors\n",
        "    self.scores = scores\n",
        "    self.n_combinations = all_combinations\n",
        "  \n",
        "    return neighbors\n",
        "    "
      ],
      "execution_count": null,
      "outputs": []
    },
    {
      "cell_type": "markdown",
      "metadata": {
        "id": "B5ooDCWWgJo4"
      },
      "source": [
        "## Finding Near Duplicates using LSH"
      ]
    },
    {
      "cell_type": "code",
      "metadata": {
        "colab": {
          "base_uri": "https://localhost:8080/"
        },
        "id": "YdC2FiQbb9KG",
        "outputId": "822fba31-5ee1-43c1-eef2-39855be586cf"
      },
      "source": [
        "#Choose k as the size of shingles\n",
        "k=10\n",
        "\n",
        "shing = ShinglingClass()\n",
        "print(\"Applying SHINGLING...\")\n",
        "shingle_df = df['Description'].dropna().apply(lambda z: shing.shingling(z,k))\n",
        "\n",
        "print(shingle_df.head())\n",
        "print(\"\\nHASHING shingles...\")\n",
        "shingle_df = df['Description'].dropna().apply(lambda z: shing.hash_shingles(z))\n",
        "\n",
        "shingle_df.head()"
      ],
      "execution_count": null,
      "outputs": [
        {
          "output_type": "stream",
          "text": [
            "Applying SHINGLING...\n",
            "0    {50, window,  pollici, , d, full hd, ssd, full ,  gb ram 64, , cpu inte, tel n3350,, a 15,6 pol, gb ssd, fu, 4 gb ssd, , r portatil, windows 10, 5,6 pollic, tile da 15, cpu intel , l n3350, w,  full hd 1, o os,4 gb , 6 pollici,, s 10 pro o, mputer por, 920 x 1080, 1920 x 108, portatile ,  intel n33, ici, cpu i, l hd 1920 , d 1920 x 1, ,4 gb ram , dows 10 pr, ndows 10 p,  gb ssd, f,  da 15,6 p, , windows , indows 10 , b ssd, ful, pro os,4 g, 15,6 polli, pollici, c, rtatile da, llici, cpu, ile da 15,, 0, windows, u intel n3,  cpu intel,  10 pro os, ro os,4 gb, 3350, wind,  portatile,  64 gb ssd,  n3350, wi, ll hd 1920, 0 pro os,4, atile da 1,  pro os,4 ,  hd 1920 x,  windows 1, hd 1920 x , pu intel n, , full hd , omputer po, 64 gb ssd,,  os,4 gb r, puter port, intel n335, 350, windo, le da 15,6, ter portat, i, cpu int, ollici, cp, ortatile d, da 15,6 po,  ram 64 gb, gb ram 64 , sd, full h, tatile da , n3350, win, ci, cpu in, ows 10 pro, lici, cpu , ,6 pollici, ram 64 gb , m 64 gb ss, uter porta, ull hd 192, s,4 gb ram, ws 10 pro , ntel n3350,  15,6 poll, el n3350, , e da 15,6 , full hd 19, computer p,  1920 x 10, 4 gb ram 6, 10 pro os,, os,4 gb ra,  ssd, full, b ram 64 g, am 64 gb s, ...}\n",
            "1    {sff intel , n 10 pro (,  10 pro (r, 500gb/dvd+, l 7010 sff,  7010 sff , el core i5, 0 3.20ghz/, in 10 pro ,  8gb/500gb, 10 pro (ri, o (ricondi, ondizionat, ndizionato, b/500gb/dv, am 8gb/500, /win 10 pr, ro (ricond,  core i5 3, /500gb/dvd, 70 3.20ghz, f intel co, /ram 8gb/5, dell 7010 , win 10 pro, 00gb/dvd+r, d+rw/win 1, ff intel c, c dell 701, 10 sff int,  intel cor, /dvd+rw/wi, (ricondizi, 010 sff in,  3470 3.20, 0gb/dvd+rw, 0ghz/ram 8, ram 8gb/50, 3470 3.20g, 0 sff inte, w/win 10 p, re i5 3470, dizionato), condiziona, 7010 sff i, .20ghz/ram, pro (ricon,  sff intel, dvd+rw/win, b/dvd+rw/w,  3.20ghz/r, +rw/win 10,  dell 7010, l core i5 , gb/500gb/d, rw/win 10 , ell 7010 s, tel core i, e i5 3470 , z/ram 8gb/, 470 3.20gh, pc dell 70, 8gb/500gb/,  pro (rico, 20ghz/ram , 5 3470 3.2,  (ricondiz, intel core, m 8gb/500g, gb/dvd+rw/, ntel core , icondizion,  i5 3470 3, i5 3470 3., 3.20ghz/ra, ricondizio, ll 7010 sf, hz/ram 8gb, ghz/ram 8g, vd+rw/win , 0 pro (ric, ore i5 347, core i5 34}                                                                                                                                                                                                                 \n",
            "2    {vo windows, leron a 64, eria da 10, teria da 1, r3, 64 gb , to, displa, mc, batter, 4 gb di em, ips 1366 *, 4 pollici , ci (intel , allato, di,  fhd) note,  10000 mah, webcam hd,, cam hd, si, mah, webca,  webcam hd, ato, displ, gb di emmc, di emmc, b, ah, webcam, isplay ips, ici (intel, a 64 bit, ,  da 10000 ,  10 preins, a da 10000, 64 bit, 4 , 0000 mah, ,  64 bit, 4, bcam hd, s, llici (int, ram ddr3, , erativo wi, ows 10 pre, reinstalla, 366 * 768 , lici (inte, windows 10, b di emmc,, , display , i emmc, ba, ntel celer, d, sistema, it, 4 gb d, hd) notebo, a 14 polli, lato, disp, dr3, 64 gb, n a 64 bit, 4 gb di ra,  gb di emm, atteria da, ebcam hd, ,  batteria ,  preinstal, installato, 68 fhd) no, ay ips 136, a 10000 ma, o, display, emmc, batt, b di ram d,  sistema o,  4 gb di r, 00 mah, we, ps 1366 * , p da 14 po,  mah, webc, c, batteri, ia da 1000, 000 mah, w, ma operati,  ram ddr3,, dows 10 pr, ndows 10 p, istema ope, indows 10 , ria da 100, on a 64 bi, 14 pollici, top da 14 ,  bit, 4 gb, fhd) noteb, 10 preinst, i (intel c, op da 14 p, 0 mah, web, eleron a 6, tivo windo, display ip, play ips 1,  a 64 bit,, mmc, batte, laptop da ,  da 14 pol, da 14 poll, stema oper, 768 fhd) n, ...}\n",
            "3    {512gb pcie,  ram, ssd , lview 2k ,, fullview 2, huawei sha, ows 10 hom, ray, kelvi, 7 4800h, 1,  , fingera, book displ,  , amd ryz, 10 home, s, , huawei s, d da 512gb, ram, ssd d, yzen 7 480, ndows 10 h, i matebook, k displayf, aptop, ult,  displayfu, cksensor, , wei share,, ome, space, me, space ,  10 home, , drucksenso, ngerabdruc, isplayfull, ok 14 lapt, ltrabook d, ie , finge, ryzen 7 48, 12gb pcie , re, window, windows 10, gb ram, ss, 00h, 16gb , am, ssd da, a 512gb pc, 2gb pcie ,,  space gra, layfullvie, , space gr,  7 4800h, , op, ultrab,  16gb ram,, d ryzen 7 , gb pcie , , ce gray, k, lvinl-wfe9, amd ryzen , ksensor, h,  pcie , fi,  512gb pci, 0 home, sp, ook 14 lap, md ryzen 7, laptop, ul, home, spac, book 14 la, gerabdruck, sd da 512g, , windows , pcie , fin, indows 10 , wei matebo, , kelvinl-,  huawei sh, displayful, cie , fing, i share, w, ew 2k , am, kelvinl-wf,  laptop, u, are, windo, ei share, , ucksensor,,  matebook ,  kelvinl-w, trabook di,  amd ryzen, ayfullview, 4 laptop, ,  gray, kel, share, win, ook displa, en 7 4800h, llview 2k , 14 laptop,, iew 2k , a, 2k , amd r, r, huawei , b ram, ssd, ingerabdru, space gray, , 16gb ram, nsor, huaw, , ultraboo, , ssd da 5, ...}\n",
            "4    { hd led lc, da grafica, play 14\" f, n n4000, r,  4gb ddr4,, e intel ce, \" full hd , 4\" full hd, -c2w1 note, re intel c, a grafica ,  emmc 64 g,  intel, ch, 14\" full h,  intel cel, scheda gra, splay 14\" ,  con proce, k, pc port,  64 gb, di, , silver, , ica intel,, notebook, , celeron n4, tile con p, romebook 3, ook 314 cb, r4, emmc 6,  cb314-1h-, chromebook, hd led lcd, grafica in, l, chrome , , display , ile con pr, c2w1 noteb, ntel celer, cd, scheda, cessore in, c portatil, ome os, si,  scheda gr, er chromeb, k 314 cb31, y 14\" full,  notebook,, heda grafi, 4000, ram , isplay 14\", 314 cb314-, book 314 c, 0, ram 4gb, b ddr4, em, , ram 4gb , portatile ,  chrome os, cheda graf,  gb, displ, b, display,  ram 4gb d,  full hd l, ddr4, emmc,  os, silve,  314 cb314, display 14, eda grafic, 64 gb, dis, me os, sil, 2w1 notebo, d lcd, sch, , emmc 64 ,  chromeboo, tatile con, afica inte, ll hd led , n processo, ron n4000,, 4, emmc 64, 00, ram 4g, acer chrom, h-c2w1 not, lay 14\" fu,  grafica i,  portatile, b314-1h-c2, otebook, p, gb, displa,  display 1,  led lcd, , gb ddr4, e, rafica int, el, chrome, book, pc p, ook, pc po, ok 314 cb3, mc 64 gb, , 14 cb314-1, leron n400,  processor, ay 14\" ful, ...}\n",
            "Name: Description, dtype: object\n",
            "\n",
            "HASHING shingles...\n"
          ],
          "name": "stdout"
        },
        {
          "output_type": "execute_result",
          "data": {
            "text/plain": [
              "0    [2327285305615658431, -9062990035501684277, 3874035541517063648, -5266660959964973478, 3871773975480142321, 2307249783634915753, 4329577756000234461, 4295062967841180116, -2089159861098053011, -5266660959964973478, -9062990035501684277, 4295062967841180116, 2307249783634915753, 638239885523082005, 2307249783634915753, -5798693871501297105, 2515775033176219011, 4329577756000234461, -2089159861098053011, -6247273558098350831, 638239885523082005, -2089159861098053011, 3358620583419737909, 164040679829831731, 3991437783730082372, 7518427441921392683, -2089159861098053011, -5266660959964973478, -9062990035501684277, 2515775033176219011, 2515775033176219011, -5798693871501297105, 366257322868641307, -5798693871501297105, 3991437783730082372, -2089159861098053011, 2327285305615658431, 3091337268072463650, -8739729051812113581, -2089159861098053011, -2058404330249021241, 8358974368986303470, 2307249783634915753, 4329577756000234461, 2515775033176219011, -2089159861098053011, 6040220110254362688, -8622429092379692181, -8622429092379692181, 164040679829831731, -1106844696282570488, 3991437783730082372, -2089159861098053011, 6409330293419475670, -5798693871501297105, 8358974368986303470, -6247273558098350831, -9062990035501684277, -4499324392711459788, -161503885333630029, -2089159861098053011, 3358620583419737909, -1106844696282570488, -2089159861098053011, 3091337268072463650, 4295062967841180116, -9062990035501684277, -2089159861098053011, -5962147161523952004, -1634362074389154571, 3991437783730082372, -307864657445702325, -2089159861098053011, 8392555058409338455, 8633645249140307856, -2089159861098053011, 3717554918467231849, -3185620147539059690, 6463271443792133288, -2089159861098053011, 7518427441921392683, -307864657445702325, -2089159861098053011, 8392555058409338455, 8633645249140307856, -2089159861098053011, -1634362074389154571, -1634362074389154571, 3913716859700793612, 3991437783730082372, -2089159861098053011, -764627234758289572, 3871773975480142321, 2515775033176219011, 2515775033176219011, -2089159861098053011, 6168076309469133371, 3913716859700793612, -2089159861098053011, 3358620583419737909, ...]\n",
              "1    [3091337268072463650, 2327285305615658431, -2089159861098053011, 3913716859700793612, -2017118615312051225, 3534849005524845309, 3534849005524845309, -2089159861098053011, -2785353867796039041, -1106844696282570488, 3358620583419737909, -1106844696282570488, -2089159861098053011, -1634362074389154571, -764627234758289572, -764627234758289572, -2089159861098053011, -2058404330249021241, 8358974368986303470, 2307249783634915753, 4329577756000234461, 2515775033176219011, -2089159861098053011, 2327285305615658431, -9062990035501684277, 4295062967841180116, 4329577756000234461, -2089159861098053011, -5798693871501297105, 164040679829831731, -2089159861098053011, -8622429092379692181, -307864657445702325, -2785353867796039041, -1106844696282570488, -2089159861098053011, -8622429092379692181, -3823537137689075097, -4561072618482363042, -1106844696282570488, 8392555058409338455, -9029839360995725136, 1424594191246213397, 4908478776435534825, 3717554918467231849, -3185620147539059690, 6463271443792133288, -2089159861098053011, 2239852363235035828, 8392555058409338455, 8633645249140307856, 4908478776435534825, 164040679829831731, -1106844696282570488, -1106844696282570488, 8392555058409338455, 8633645249140307856, 4908478776435534825, 3913716859700793612, 8791709894630678683, 3913716859700793612, -8930317623469665105, 3717554918467231849, 6409330293419475670, 4908478776435534825, 6409330293419475670, -2058404330249021241, 6040220110254362688, -2089159861098053011, 3358620583419737909, -1106844696282570488, -2089159861098053011, 3091337268072463650, 3717554918467231849, -5962147161523952004, -2089159861098053011, 8526113982658837286, 3717554918467231849, -5798693871501297105, 366257322868641307, -9062990035501684277, 8358974368986303470, -6247273558098350831, -5798693871501297105, 1424594191246213397, -5798693871501297105, -9062990035501684277, 8358974368986303470, 638239885523082005, 2307249783634915753, -9062990035501684277, 1413733347125838197]                                                                                                                                                                               \n",
              "2    [3534849005524845309, 638239885523082005, -5266660959964973478, 2307249783634915753, -9062990035501684277, -5266660959964973478, -2089159861098053011, -6247273558098350831, 638239885523082005, -2089159861098053011, 3358620583419737909, -307864657445702325, -2089159861098053011, -5266660959964973478, -9062990035501684277, 2515775033176219011, 2515775033176219011, -5798693871501297105, 366257322868641307, -5798693871501297105, -2089159861098053011, 8526113982658837286, -2058404330249021241, 8358974368986303470, 2307249783634915753, 4329577756000234461, 2515775033176219011, -2089159861098053011, 2327285305615658431, 4329577756000234461, 2515775033176219011, 4329577756000234461, 4295062967841180116, -9062990035501684277, 8358974368986303470, -2089159861098053011, 638239885523082005, -2089159861098053011, 7518427441921392683, -307864657445702325, -2089159861098053011, 9170567240562786041, -5798693871501297105, 2307249783634915753, 3991437783730082372, -2089159861098053011, -307864657445702325, -2089159861098053011, 8392555058409338455, 8633645249140307856, -2089159861098053011, -6247273558098350831, -5798693871501297105, -2089159861098053011, 3717554918467231849, -3185620147539059690, 6463271443792133288, -2089159861098053011, 3913716859700793612, 3913716859700793612, 3717554918467231849, -8622429092379692181, 3991437783730082372, -2089159861098053011, 7518427441921392683, -307864657445702325, -2089159861098053011, 8392555058409338455, 8633645249140307856, -2089159861098053011, -6247273558098350831, -5798693871501297105, -2089159861098053011, 4329577756000234461, 6463271443792133288, 6463271443792133288, 2327285305615658431, 3991437783730082372, -2089159861098053011, 9170567240562786041, 638239885523082005, 2307249783634915753, 2307249783634915753, 4329577756000234461, 4295062967841180116, -5798693871501297105, 638239885523082005, -2089159861098053011, -6247273558098350831, 638239885523082005, -2089159861098053011, 3358620583419737909, -1106844696282570488, -1106844696282570488, -1106844696282570488, -1106844696282570488, -2089159861098053011, 6463271443792133288, 638239885523082005, -9029839360995725136, ...]   \n",
              "3    [6168076309469133371, -8739729051812113581, -3185620147539059690, 6409330293419475670, -2017118615312051225, -2058404330249021241, -2089159861098053011, 6463271443792133288, 638239885523082005, 2307249783634915753, 4329577756000234461, 8633645249140307856, -9062990035501684277, -9062990035501684277, 8294461603158817460, -2089159861098053011, 3358620583419737909, -307864657445702325, -2089159861098053011, 3534849005524845309, 638239885523082005, -5266660959964973478, 2307249783634915753, -9062990035501684277, -5266660959964973478, 3991437783730082372, -2089159861098053011, -8739729051812113581, 2515775033176219011, 2307249783634915753, 4295062967841180116, 638239885523082005, 9170567240562786041, -9062990035501684277, -9062990035501684277, 8294461603158817460, -2089159861098053011, 3913716859700793612, -5798693871501297105, -161503885333630029, -5266660959964973478, 2515775033176219011, 638239885523082005, 2601224298536553174, -764627234758289572, 3871773975480142321, 2515775033176219011, 2515775033176219011, 8791709894630678683, -5798693871501297105, 4329577756000234461, -4499324392711459788, -2089159861098053011, -4561072618482363042, 5802627305254062902, -2089159861098053011, 3991437783730082372, -2089159861098053011, -3185620147539059690, 6463271443792133288, 3913716859700793612, -2089159861098053011, 3717554918467231849, 2601224298536553174, 1424594191246213397, 4329577756000234461, 8358974368986303470, -2089159861098053011, -2785353867796039041, -2089159861098053011, -307864657445702325, 2239852363235035828, -1106844696282570488, -1106844696282570488, 6168076309469133371, 3991437783730082372, -2089159861098053011, 3358620583419737909, 7518427441921392683, 8392555058409338455, 8633645249140307856, -2089159861098053011, 3717554918467231849, -3185620147539059690, 6463271443792133288, 3991437783730082372, -2089159861098053011, -1634362074389154571, -1634362074389154571, 3913716859700793612, -2089159861098053011, -6247273558098350831, 638239885523082005, -2089159861098053011, 164040679829831731, 3358620583419737909, -4561072618482363042, 8392555058409338455, 8633645249140307856, -2089159861098053011, ...]   \n",
              "4    [-3185620147539059690, 366257322868641307, 4329577756000234461, 4295062967841180116, -2089159861098053011, 2327285305615658431, -9029839360995725136, 4295062967841180116, -9062990035501684277, 3874035541517063648, 4329577756000234461, 9170567240562786041, -9062990035501684277, -9062990035501684277, 8294461603158817460, -2089159861098053011, -8622429092379692181, 3358620583419737909, -307864657445702325, -2089159861098053011, 2327285305615658431, 8633645249140307856, -8622429092379692181, 3358620583419737909, -307864657445702325, 5623349430684105422, 3358620583419737909, 6168076309469133371, 5623349430684105422, 2327285305615658431, -4561072618482363042, 6409330293419475670, 3358620583419737909, -2089159861098053011, 6040220110254362688, -9062990035501684277, 2307249783634915753, 4329577756000234461, 9170567240562786041, -9062990035501684277, -9062990035501684277, 8294461603158817460, 3991437783730082372, -2089159861098053011, 3091337268072463650, 366257322868641307, -2089159861098053011, 3091337268072463650, -9062990035501684277, 4295062967841180116, 2307249783634915753, 638239885523082005, 2307249783634915753, -5798693871501297105, 2515775033176219011, 4329577756000234461, -2089159861098053011, 366257322868641307, -9062990035501684277, 8358974368986303470, -2089159861098053011, 3091337268072463650, 4295062967841180116, -9062990035501684277, 366257322868641307, 4329577756000234461, -161503885333630029, -161503885333630029, -9062990035501684277, 4295062967841180116, 4329577756000234461, -2089159861098053011, -2058404330249021241, 8358974368986303470, 2307249783634915753, 4329577756000234461, 2515775033176219011, -2089159861098053011, 2327285305615658431, 4329577756000234461, 2515775033176219011, 4329577756000234461, 4295062967841180116, -9062990035501684277, 8358974368986303470, -2089159861098053011, 6040220110254362688, -307864657445702325, -1106844696282570488, -1106844696282570488, -1106844696282570488, 3991437783730082372, -2089159861098053011, 3717554918467231849, 638239885523082005, 3874035541517063648, -2089159861098053011, -307864657445702325, 8392555058409338455, 8633645249140307856, ...]            \n",
              "Name: Description, dtype: object"
            ]
          },
          "metadata": {
            "tags": []
          },
          "execution_count": 192
        }
      ]
    },
    {
      "cell_type": "code",
      "metadata": {
        "colab": {
          "base_uri": "https://localhost:8080/"
        },
        "id": "o15bc_AWtFfS",
        "outputId": "9c955408-a9b0-4b71-b8b1-5a5bae50a269"
      },
      "source": [
        "#Convert df to multidimensional list\n",
        "sets = shingle_df.values.tolist()\n",
        "min_hash = MinHashingClass(sets)\n",
        "\n",
        "#Create the characteristic matrix\n",
        "print(min_hash.universal_set)\n",
        "M = min_hash.to_characteristic_matrix()\n",
        "print(\"\\nThis is the set of all distinct shingles of the collection: \")\n",
        "print(min_hash.universal_set)\n",
        "print(\"\\nThis is the characteristic matrix:\")\n",
        "print(M)\n",
        "print(\"Shape: \",M.shape)\n",
        "\n",
        "#Create the signature matrix\n",
        "print(\"\\nThis is the signature matrix:\")\n",
        "b = 20\n",
        "r = 13\n",
        "n = b * r #n is the number of hash functions. Choose b and r, and then n=br\n",
        "sig = min_hash.to_signature_matrix(M,n) #it tooks a while, since we are using cryptographic hashing functions\n",
        "print(sig)\n",
        "print(\"Shape: \", sig.shape)\n",
        "\n"
      ],
      "execution_count": null,
      "outputs": [
        {
          "output_type": "stream",
          "text": [
            "[]\n",
            "\n",
            "This is the set of all distinct shingles of the collection: \n",
            "[2327285305615658431, -9062990035501684277, 3874035541517063648, -5266660959964973478, 3871773975480142321, 2307249783634915753, 4329577756000234461, 4295062967841180116, -2089159861098053011, 638239885523082005, -5798693871501297105, 2515775033176219011, -6247273558098350831, 3358620583419737909, 164040679829831731, 3991437783730082372, 7518427441921392683, 366257322868641307, 3091337268072463650, -8739729051812113581, -2058404330249021241, 8358974368986303470, 6040220110254362688, -8622429092379692181, -1106844696282570488, 6409330293419475670, -4499324392711459788, -161503885333630029, -5962147161523952004, -1634362074389154571, -307864657445702325, 8392555058409338455, 8633645249140307856, 3717554918467231849, -3185620147539059690, 6463271443792133288, 3913716859700793612, -764627234758289572, 6168076309469133371, -3669375306141416555, -4561072618482363042, -2279847987130941824, 2239852363235035828, -2017118615312051225, 3534849005524845309, -2785353867796039041, -3823537137689075097, -9029839360995725136, 1424594191246213397, 4908478776435534825, 8791709894630678683, -8930317623469665105, 8526113982658837286, 1413733347125838197, 9170567240562786041, 5467885453778497513, 2601224298536553174, -2820372967072693981, 8294461603158817460, 5802627305254062902, -4425441444232986020, 5623349430684105422, 8940082516605235534, 4018451506314809914, -817748847725424163, -2992649236297192529, -25463756861033041, -3561620192989477443, 602962932776163389, 8669887836750848950, 1633485177836683808, 1736746033760611919, -6655068150207541323, 2504131744587144431, -6223316719209599529, 1488549969982681007, -4742450684964454936, -6182196327838434834, -5076207582396093085, -5536157435083936252, 2252788505433336811, -5966478369366058238, -1636026542833713103, 3213566828427812812, -5595804551967693632, -1082935971304153662, -7996664462728627286, -6999844286667431846, 6282337163321073964, 785184693937309041, 9080126497485605712, 6486910481628355483, -6379087882736591137]\n",
            "\n",
            "This is the characteristic matrix:\n",
            "[[1. 1. 1. ... 1. 1. 1.]\n",
            " [1. 1. 1. ... 1. 1. 1.]\n",
            " [1. 0. 1. ... 1. 1. 1.]\n",
            " ...\n",
            " [0. 0. 0. ... 0. 0. 0.]\n",
            " [0. 0. 0. ... 0. 0. 0.]\n",
            " [0. 0. 0. ... 0. 0. 0.]]\n",
            "Shape:  (93, 306)\n",
            "\n",
            "This is the signature matrix:\n",
            "[[b'\\x05' b'\\x05' b'\\x05' ... b'\\x06' b'\\x05' b'\\x05']\n",
            " [b'\\x04' b'\\x04' b'\\x04' ... b'\\x04' b'\\x04' b'\\x08']\n",
            " [b'\\x08' b'\\x08' b'\\x08' ... b'\\x08' b'\\x08' b'\\x08']\n",
            " ...\n",
            " [b'\\x03' b'\\x03' b'\\x03' ... b'\\x03' b'\\x03' b'\\x03']\n",
            " [b'\\x03' b'\\x03' b'\\x03' ... b'\\x03' b'\\x03' b'\\x03']\n",
            " [b'\\x0f' b'\\x03' b'\\x0f' ... b'\\x0f' b'\\x03' b'\\x0f']]\n",
            "Shape:  (260, 306)\n"
          ],
          "name": "stdout"
        }
      ]
    },
    {
      "cell_type": "code",
      "metadata": {
        "colab": {
          "base_uri": "https://localhost:8080/"
        },
        "id": "NmH58_FV3rbu",
        "outputId": "b4a23085-5927-41eb-ca80-90e593364a82"
      },
      "source": [
        "\n",
        "s = 0.8 #They should agree in at least the 80% of the rows\n",
        "#Plot on wolfram: plot 1-(1-s^r)^b, (s,0,1) such that br=n\n",
        "\n",
        "\n",
        "start_time = time.time()\n",
        "lsh = LSHClass(s,b)\n",
        "duplicate_pairs = lsh.get_candidates(sig)\n",
        "end_time = time.time()\n",
        "\n",
        "print(\"There are \",len(duplicate_pairs), \" duplicate pairs.\")\n",
        "print(\"\\n Duplicate pairs returned: \")\n",
        "print(duplicate_pairs) #pairs of docs having at least r rows (1 band) of signature matrix in common\n",
        "print(\"\\nTime taken: \", end_time - start_time, \" seconds.\")\n",
        "\n",
        "# If you want to post-filter the retrieved pairs\n",
        "#filtered_duplicates = lsh.post_filter_candidates()\n",
        "#print(\"\\nThere are \", len(filtered_duplicates), \" pairs having similarity >= 0.8.\")"
      ],
      "execution_count": null,
      "outputs": [
        {
          "output_type": "stream",
          "text": [
            "There are  1808  duplicate pairs.\n",
            "\n",
            " Duplicate pairs returned: \n",
            "{(140, 226), (19, 304), (98, 203), (116, 158), (7, 25), (10, 271), (27, 122), (196, 296), (10, 97), (36, 256), (114, 173), (90, 130), (38, 119), (21, 37), (131, 275), (111, 232), (25, 162), (29, 37), (3, 288), (131, 160), (6, 287), (102, 222), (11, 160), (125, 194), (142, 288), (172, 296), (83, 255), (3, 11), (24, 132), (131, 280), (209, 265), (63, 114), (156, 304), (29, 62), (11, 72), (88, 272), (102, 209), (177, 238), (103, 104), (197, 227), (238, 298), (37, 63), (77, 88), (208, 265), (6, 92), (10, 19), (102, 160), (15, 157), (0, 5), (134, 176), (67, 239), (145, 220), (97, 238), (98, 257), (122, 222), (123, 196), (3, 302), (117, 148), (9, 59), (119, 176), (157, 296), (124, 234), (198, 234), (77, 81), (227, 243), (214, 298), (162, 177), (114, 214), (39, 288), (12, 262), (33, 68), (159, 177), (166, 173), (115, 141), (23, 300), (81, 304), (3, 279), (149, 220), (30, 49), (196, 268), (125, 237), (54, 171), (110, 259), (275, 298), (40, 106), (76, 262), (205, 230), (122, 298), (87, 134), (23, 208), (136, 209), (119, 134), (15, 123), (0, 123), (199, 238), (19, 124), (222, 238), (132, 165), (172, 268), (136, 160), (173, 188), (121, 251), (123, 235), (69, 123), (36, 116), (77, 235), (149, 238), (227, 300), (173, 205), (272, 290), (132, 172), (232, 251), (125, 293), (197, 285), (108, 232), (163, 216), (37, 164), (243, 285), (159, 172), (235, 247), (57, 97), (25, 136), (151, 301), (23, 230), (19, 29), (131, 138), (157, 268), (161, 201), (16, 143), (23, 25), (81, 114), (135, 142), (10, 62), (88, 220), (162, 296), (164, 209), (24, 238), (145, 177), (77, 268), (23, 304), (10, 199), (15, 33), (57, 288), (77, 157), (97, 124), (151, 236), (44, 300), (22, 234), (28, 114), (122, 149), (29, 124), (140, 161), (158, 256), (296, 298), (78, 102), (78, 145), (81, 211), (10, 81), (24, 77), (216, 298), (164, 199), (112, 272), (187, 213), (44, 186), (173, 271), (87, 163), (163, 265), (37, 288), (159, 296), (136, 265), (121, 256), (3, 59), (208, 209), (88, 177), (54, 304), (118, 168), (101, 288), (177, 272), (81, 188), (177, 222), (136, 304), (121, 265), (157, 272), (11, 230), (36, 230), (109, 211), (273, 282), (143, 265), (38, 81), (52, 280), (145, 157), (199, 296), (36, 158), (19, 62), (129, 276), (24, 51), (121, 274), (114, 134), (251, 263), (3, 199), (149, 172), (22, 97), (9, 236), (178, 214), (132, 238), (16, 276), (44, 271), (6, 9), (159, 238), (24, 216), (23, 160), (29, 89), (274, 301), (77, 290), (4, 198), (102, 298), (159, 268), (10, 124), (12, 149), (268, 290), (14, 209), (18, 236), (3, 23), (44, 262), (66, 224), (88, 141), (72, 199), (254, 286), (4, 62), (49, 233), (7, 176), (46, 117), (196, 290), (124, 199), (199, 279), (77, 172), (132, 220), (136, 151), (102, 188), (103, 205), (114, 179), (61, 270), (118, 284), (122, 268), (159, 220), (254, 257), (112, 298), (3, 173), (4, 37), (188, 247), (20, 274), (94, 164), (78, 87), (171, 230), (6, 293), (15, 25), (76, 89), (77, 165), (149, 296), (136, 158), (107, 271), (162, 165), (40, 143), (169, 301), (229, 304), (211, 285), (122, 279), (180, 257), (116, 230), (131, 163), (25, 287), (98, 178), (10, 134), (119, 189), (11, 163), (196, 272), (15, 102), (112, 122), (238, 288), (137, 172), (89, 235), (162, 188), (0, 15), (37, 134), (3, 10), (114, 165), (23, 87), (37, 279), (166, 176), (205, 256), (22, 149), (169, 236), (288, 302), (4, 186), (6, 194), (172, 222), (174, 195), (11, 216), (160, 163), (36, 160), (37, 62), (78, 208), (72, 148), (101, 279), (17, 264), (25, 179), (9, 169), (33, 51), (76, 247), (11, 209), (109, 121), (4, 304), (10, 27), (157, 216), (229, 230), (51, 177), (89, 102), (39, 101), (21, 63), (116, 262), (10, 288), (121, 232), (123, 220), (33, 52), (72, 121), (132, 296), (5, 38), (119, 136), (106, 143), (88, 89), (110, 256), (227, 251), (103, 238), (222, 290), (3, 97), (8, 116), (134, 163), (145, 272), (3, 142), (115, 149), (220, 296), (227, 294), (10, 186), (15, 122), (22, 198), (158, 300), (89, 112), (98, 254), (116, 193), (19, 23), (62, 91), (112, 157), (77, 123), (157, 163), (134, 157), (46, 211), (92, 194), (134, 300), (53, 148), (94, 117), (38, 285), (97, 122), (236, 301), (76, 300), (152, 292), (284, 289), (51, 141), (1, 30), (122, 250), (160, 275), (132, 268), (136, 199), (27, 37), (10, 87), (34, 49), (18, 151), (114, 300), (81, 106), (44, 301), (10, 38), (106, 114), (2, 236), (23, 134), (262, 271), (53, 117), (76, 186), (3, 234), (159, 290), (52, 179), (127, 276), (37, 124), (220, 268), (77, 149), (68, 275), (126, 233), (77, 102), (23, 46), (141, 159), (15, 272), (201, 263), (165, 222), (188, 222), (122, 157), (183, 256), (249, 278), (220, 222), (37, 101), (8, 288), (186, 262), (62, 198), (45, 118), (10, 40), (265, 288), (69, 293), (290, 296), (4, 91), (24, 196), (27, 234), (11, 59), (114, 119), (4, 234), (81, 179), (102, 262), (11, 136), (159, 272), (151, 250), (9, 114), (282, 304), (121, 264), (102, 145), (89, 188), (15, 172), (20, 25), (41, 289), (141, 145), (131, 304), (173, 256), (101, 296), (88, 296), (149, 162), (123, 132), (2, 27), (131, 238), (62, 97), (121, 273), (72, 256), (3, 40), (134, 216), (87, 216), (273, 274), (188, 235), (145, 149), (94, 176), (77, 296), (3, 198), (22, 102), (171, 303), (6, 236), (81, 173), (46, 104), (11, 134), (123, 157), (176, 199), (220, 272), (168, 278), (10, 114), (3, 17), (25, 92), (211, 265), (72, 193), (23, 163), (119, 288), (121, 193), (122, 177), (2, 122), (4, 199), (81, 166), (9, 20), (10, 234), (30, 233), (88, 112), (178, 283), (238, 268), (40, 243), (91, 122), (37, 234), (112, 165), (24, 177), (4, 63), (11, 39), (151, 169), (81, 159), (102, 290), (232, 285), (124, 283), (257, 276), (59, 253), (179, 209), (34, 126), (112, 220), (114, 176), (194, 293), (88, 149), (158, 199), (38, 114), (168, 237), (111, 237), (121, 211), (104, 117), (129, 137), (131, 189), (27, 124), (11, 173), (196, 298), (15, 24), (132, 196), (121, 301), (14, 160), (127, 180), (3, 4), (114, 171), (186, 300), (9, 301), (159, 196), (112, 290), (205, 262), (166, 265), (99, 291), (102, 220), (177, 235), (196, 238), (51, 123), (112, 123), (40, 232), (172, 298), (63, 158), (228, 276), (158, 166), (36, 265), (114, 162), (39, 300), (3, 29), (23, 280), (23, 199), (230, 265), (166, 256), (124, 288), (160, 164), (179, 183), (238, 296), (157, 222), (12, 186), (125, 287), (15, 159), (0, 7), (164, 176), (3, 114), (24, 141), (115, 134), (119, 285), (122, 220), (230, 256), (51, 216), (220, 238), (148, 168), (132, 290), (149, 209), (22, 28), (11, 208), (196, 220), (37, 38), (132, 177), (78, 216), (24, 101), (40, 101), (209, 232), (229, 298), (1, 49), (59, 304), (3, 136), (141, 298), (52, 209), (77, 247), (10, 176), (228, 257), (157, 208), (37, 176), (21, 214), (4, 114), (97, 304), (134, 160), (173, 304), (101, 280), (122, 296), (296, 304), (25, 188), (122, 238), (57, 198), (132, 272), (172, 196), (15, 69), (203, 237), (61, 178), (222, 298), (8, 124), (91, 279), (77, 280), (115, 157), (81, 288), (173, 186), (123, 272), (160, 262), (19, 22), (166, 300), (9, 44), (104, 238), (103, 142), (11, 199), (77, 122), (24, 122), (227, 232), (17, 173), (143, 302), (115, 296), (23, 115), (141, 196), (143, 224), (57, 103), (249, 258), (257, 291), (268, 275), (112, 149), (185, 193), (41, 159), (132, 149), (46, 285), (88, 222), (37, 171), (23, 136), (29, 97), (11, 23), (237, 254), (1, 29), (165, 188), (76, 188), (110, 116), (5, 136), (25, 151), (81, 274), (37, 114), (172, 177), (29, 131), (235, 268), (110, 285), (114, 301), (208, 229), (10, 39), (102, 124), (88, 165), (114, 243), (29, 122), (158, 262), (4, 229), (25, 293), (11, 157), (89, 177), (127, 228), (112, 131), (63, 214), (88, 172), (116, 183), (158, 265), (92, 168), (147, 248), (2, 151), (183, 259), (149, 159), (102, 268), (159, 298), (38, 263), (77, 141), (7, 230), (135, 301), (102, 159), (122, 124), (40, 167), (78, 265), (62, 199), (143, 258), (114, 229), (24, 272), (23, 151), (9, 151), (101, 302), (173, 262), (88, 290), (52, 275), (1, 96), (57, 131), (94, 199), (171, 304), (134, 265), (177, 220), (33, 250), (199, 301), (149, 265), (157, 238), (11, 280), (112, 177), (25, 81), (134, 230), (135, 236), (265, 296), (157, 159), (15, 220), (162, 247), (236, 274), (241, 278), (25, 194), (122, 172), (81, 171), (121, 167), (54, 230), (164, 280), (131, 209), (89, 132), (16, 228), (6, 20), (9, 304), (45, 103), (44, 274), (46, 143), (21, 127), (124, 262), (106, 265), (61, 137), (136, 288), (63, 304), (10, 115), (60, 71), (206, 226), (134, 208), (69, 287), (87, 208), (110, 179), (141, 275), (143, 211), (81, 165), (27, 97), (119, 208), (102, 296), (123, 149), (106, 167), (36, 142), (77, 177), (208, 288), (10, 122), (127, 129), (3, 25), (243, 294), (91, 234), (97, 199), (141, 268), (94, 163), (149, 188), (40, 251), (132, 222), (10, 101), (30, 96), (89, 159), (14, 275), (0, 51), (110, 210), (41, 284), (62, 234), (159, 222), (145, 238), (119, 166), (28, 300), (232, 261), (10, 157), (124, 275), (33, 159), (38, 136), (203, 286), (155, 211), (88, 238), (96, 126), (60, 108), (9, 300), (66, 263), (88, 157), (145, 298), (97, 209), (27, 199), (29, 34), (88, 268), (234, 279), (214, 230), (6, 274), (51, 122), (19, 101), (275, 280), (10, 23), (102, 172), (157, 196), (15, 145), (23, 81), (145, 216), (109, 167), (97, 234), (4, 21), (119, 263), (88, 275), (77, 196), (171, 214), (172, 216), (173, 230), (29, 172), (123, 177), (106, 155), (12, 36), (172, 290), (136, 142), (197, 294), (216, 235), (71, 87), (39, 110), (123, 268), (72, 116), (59, 171), (22, 29), (206, 302), (29, 165), (108, 111), (238, 304), (203, 254), (38, 189), (24, 102), (15, 296), (3, 122), (169, 179), (24, 149), (205, 234), (23, 103), (141, 216), (87, 138), (4, 27), (116, 256), (25, 186), (44, 114), (10, 302), (48, 117), (123, 222), (160, 265), (132, 298), (81, 243), (27, 91), (28, 304), (160, 179), (172, 272), (265, 280), (46, 265), (14, 189), (40, 109), (247, 296), (68, 103), (141, 290), (220, 298), (243, 251), (12, 209), (40, 197), (167, 265), (79, 219), (6, 68), (136, 163), (10, 11), (29, 296), (12, 160), (162, 222), (19, 238), (114, 199), (4, 122), (262, 280), (45, 168), (46, 206), (247, 289), (198, 304), (145, 196), (10, 208), (230, 298), (52, 160), (97, 103), (172, 188), (10, 163), (89, 272), (15, 77), (37, 208), (38, 166), (112, 159), (24, 123), (23, 29), (6, 63), (88, 216), (112, 238), (3, 81), (4, 97), (23, 114), (11, 17), (29, 103), (236, 250), (77, 272), (224, 263), (5, 142), (191, 215), (102, 280), (123, 296), (78, 138), (157, 265), (161, 206), (36, 205), (19, 143), (77, 114), (81, 119), (9, 274), (101, 124), (102, 122), (15, 268), (39, 186), (44, 199), (134, 138), (173, 282), (29, 96), (21, 81), (99, 187), (78, 141), (272, 275), (112, 141), (38, 208), (132, 157), (25, 125), (208, 230), (15, 277), (17, 158), (162, 235), (39, 179), (69, 194), (4, 230), (98, 137), (25, 159), (29, 234), (12, 102), (52, 189), (37, 122), (149, 262), (81, 208), (282, 300), (15, 88), (198, 199), (112, 132), (141, 157), (159, 247), (273, 301), (187, 291), (116, 176), (27, 279), (216, 220), (141, 238), (37, 301), (165, 173), (25, 301), (285, 302), (69, 92), (106, 285), (59, 218), (106, 211), (158, 230), (115, 208), (198, 279), (11, 138), (34, 233), (52, 131), (199, 300), (62, 124), (10, 78), (87, 108), (3, 37), (186, 271), (106, 109), (0, 199), (9, 159), (119, 300), (10, 279), (88, 298), (149, 160), (188, 272), (10, 230), (285, 288), (62, 103), (25, 89), (176, 288), (29, 279), (158, 208), (103, 304), (165, 247), (23, 164), (189, 209), (28, 81), (234, 304), (237, 293), (101, 160), (123, 159), (6, 125), (136, 236), (104, 288), (11, 265), (3, 19), (114, 188), (24, 172), (134, 209), (216, 265), (164, 230), (39, 76), (97, 205), (237, 286), (29, 199), (232, 280), (38, 288), (60, 232), (61, 129), (30, 126), (107, 207), (161, 288), (89, 149), (91, 124), (97, 280), (216, 272), (87, 232), (59, 273), (97, 198), (23, 271), (23, 186), (205, 274), (122, 198), (77, 216), (22, 118), (25, 274), (213, 291), (124, 194), (131, 199), (208, 280), (92, 125), (112, 222), (20, 63), (19, 199), (25, 44), (209, 275), (63, 72), (177, 298), (77, 209), (149, 196), (104, 134), (103, 118), (33, 158), (40, 227), (77, 162), (189, 275), (45, 57), (103, 199), (111, 135), (3, 6), (169, 274), (134, 186), (141, 172), (165, 235), (27, 198), (9, 188), (11, 87), (95, 255), (11, 164), (176, 229), (196, 275), (33, 151), (61, 172), (12, 189), (158, 164), (40, 121), (116, 121), (145, 290), (0, 177), (9, 165), (121, 227), (76, 251), (3, 301), (166, 262), (40, 294), (167, 285), (135, 169), (157, 220), (15, 290), (72, 300), (0, 25), (17, 199), (141, 222), (0, 136), (18, 94), (183, 210), (4, 29), (209, 262), (230, 262), (123, 216), (3, 274), (160, 189), (196, 222), (16, 167), (197, 232), (88, 196), (72, 158), (101, 285), (22, 186), (115, 145), (23, 296), (141, 296), (4, 171), (149, 216), (6, 179), (235, 290), (272, 296), (36, 209), (162, 196), (24, 296), (24, 157), (187, 257), (4, 124), (134, 166), (97, 131), (91, 199), (23, 236), (81, 301), (230, 304), (122, 236), (11, 115), (77, 238), (8, 256), (199, 234), (37, 214), (20, 114), (78, 296), (6, 69), (136, 164), (89, 196), (222, 296), (122, 132), (14, 52), (163, 164), (4, 10), (29, 30), (11, 104), (160, 280), (87, 264), (220, 290), (3, 265), (104, 208), (25, 114), (17, 163), (1, 233), (111, 169), (222, 275), (68, 199), (165, 177), (10, 216), (37, 119), (22, 62), (81, 229), (136, 280), (210, 259), (89, 165), (0, 77), (76, 101), (114, 304), (4, 279), (40, 265), (9, 273), (102, 123), (66, 143), (17, 164), (23, 138), (148, 230), (166, 205), (116, 210), (102, 272), (36, 102), (160, 208), (198, 205), (9, 282), (63, 171), (10, 37), (23, 131), (122, 145), (78, 149), (47, 48), (25, 69), (10, 44), (72, 168), (97, 160), (37, 300), (183, 285), (165, 172), (149, 157), (25, 300), (45, 284), (124, 160), (15, 51), (62, 122), (102, 157), (112, 188), (24, 88), (81, 89), (141, 149), (165, 196), (44, 173), (81, 176), (285, 294), (77, 132), (87, 111), (112, 179), (88, 188), (15, 222), (115, 216), (9, 158), (50, 200), (76, 162), (69, 77), (149, 272), (136, 230), (268, 296), (161, 226), (91, 97), (37, 229), (143, 167), (163, 230), (19, 288), (3, 186), (23, 167), (9, 135), (188, 296), (81, 162), (48, 53), (29, 205), (220, 275), (14, 263), (180, 254), (118, 262), (46, 148), (138, 157), (103, 296), (24, 220), (10, 262), (77, 222), (149, 177), (22, 124), (9, 25), (29, 198), (238, 275), (149, 290), (5, 109), (158, 176), (15, 132), (112, 216), (3, 27), (9, 288), (88, 145), (145, 235), (19, 302), (148, 288), (131, 296), (156, 288), (122, 199), (171, 229), (101, 209), (46, 121), (47, 117), (123, 172), (88, 122), (197, 243), (131, 198), (132, 216), (87, 115), (179, 210), (15, 141), (36, 262), (19, 198), (165, 272), (60, 87), (159, 216), (92, 237), (9, 186), (102, 216), (89, 296), (17, 59), (38, 142), (103, 198), (14, 280), (180, 203), (20, 199), (114, 166), (3, 9), (122, 275), (88, 159), (158, 205), (145, 296), (166, 189), (25, 165), (177, 290), (142, 186), (104, 142), (176, 230), (124, 209), (201, 226), (19, 103), (40, 288), (135, 179), (102, 162), (43, 231), (33, 77), (180, 276), (145, 222), (7, 10), (92, 293), (20, 300), (3, 300), (157, 298), (51, 69), (114, 274), (42, 55), (102, 165), (112, 196), (3, 119), (163, 176), (147, 202), (23, 274), (9, 173), (218, 253), (59, 173), (149, 222), (4, 173), (15, 112), (40, 302), (21, 276), (300, 301), (138, 208), (15, 298), (3, 124), (24, 290), (114, 211), (23, 97), (262, 300), (138, 163), (33, 95), (159, 188), (145, 275), (62, 279), (10, 300), (47, 161), (288, 304), (37, 91), (9, 39), (102, 196), (29, 188), (103, 234), (14, 131), (15, 238), (163, 209), (17, 176), (3, 101), (209, 230), (194, 287), (287, 293), (159, 165), (87, 157), (91, 198), (116, 265), (23, 288), (81, 300), (69, 125), (22, 45), (132, 275), (7, 134), (10, 166), (19, 131), (135, 151), (37, 166), (134, 158), (159, 162), (142, 238), (166, 208), (116, 205), (123, 238), (177, 188), (129, 228), (2, 33), (97, 101), (9, 81), (112, 145), (40, 206), (132, 169), (214, 304), (222, 272), (21, 229), (37, 304), (134, 288), (173, 176), (123, 298), (77, 159), (59, 201), (210, 256), (37, 199), (77, 112), (165, 296), (188, 196), (134, 136), (122, 151), (105, 264), (33, 123), (51, 145), (53, 104), (256, 262), (159, 289), (92, 287), (160, 209), (89, 173), (0, 69), (114, 159), (132, 159), (208, 216), (102, 115), (157, 177), (176, 262), (216, 296), (89, 222), (4, 81), (25, 236), (173, 273), (57, 118), (11, 158), (35, 193), (77, 145), (132, 247), (81, 214), (61, 98), (27, 62), (6, 151), (160, 232), (20, 23), (49, 126), (106, 121), (24, 268), (29, 112), (216, 222), (51, 159), (177, 216), (36, 149), (37, 97), (168, 293), (78, 157), (206, 285), (9, 77), (122, 123), (3, 62), (39, 210), (132, 141), (41, 247), (6, 25), (25, 77), (2, 250), (112, 268), (222, 268), (24, 275), (115, 265), (39, 163), (247, 284), (145, 159), (146, 240), (4, 214), (149, 165), (176, 205), (12, 22), (33, 255), (159, 284), (102, 149), (157, 235), (160, 230), (186, 208), (207, 271), (134, 229), (62, 205), (25, 199), (177, 268), (143, 206), (1, 126), (88, 102), (17, 94), (77, 188), (10, 119), (137, 178), (15, 177), (0, 33), (20, 44), (3, 44), (6, 11), (88, 132), (143, 285), (29, 91), (25, 262), (9, 23), (45, 262), (123, 145), (238, 265), (20, 68), (149, 280), (208, 300), (112, 162), (23, 78), (19, 296), (40, 46), (59, 282), (121, 197), (141, 272), (142, 166), (53, 94), (227, 282), (11, 179), (177, 196), (124, 280), (164, 265), (238, 272), (168, 257), (95, 275), (7, 199), (135, 274), (162, 172), (36, 280), (204, 252), (103, 288), (71, 108), (112, 296), (23, 265), (226, 288), (209, 280), (122, 196), (230, 280), (142, 169), (172, 238), (88, 123), (124, 279), (199, 274), (36, 176), (149, 298), (189, 280), (246, 299), (102, 177), (193, 256), (181, 249), (182, 249), (97, 279), (63, 229), (46, 167), (12, 280), (141, 177), (96, 233), (205, 265), (23, 262), (25, 163), (10, 265), (177, 296), (69, 159), (98, 180), (197, 251), (16, 180), (238, 290), (19, 97), (20, 81), (77, 160), (137, 283), (15, 149), (60, 111), (97, 296), (122, 272), (1, 34), (9, 162), (214, 229), (288, 300), (251, 294), (59, 158), (78, 163), (172, 220), (100, 244), (36, 166), (38, 134), (77, 89), (111, 142), (76, 279), (207, 241), (61, 283), (37, 274), (3, 158), (25, 173), (11, 78), (20, 301), (81, 134), (10, 138), (36, 173), (202, 248), (40, 211), (203, 257), (10, 29), (11, 300), (158, 173), (89, 247), (24, 145), (48, 226), (122, 290), (216, 238), (141, 220), (33, 69), (163, 179), (115, 138), (23, 301), (98, 283), (23, 216), (122, 216), (51, 220), (37, 81), (210, 285), (119, 142), (157, 290), (29, 162), (196, 216), (51, 77), (38, 176), (137, 270), (37, 179), (114, 208), (205, 301), (23, 209), (121, 243), (3, 285), (136, 208), (7, 136), (272, 298), (24, 112), (265, 285), (157, 172), (232, 243), (138, 216), (51, 268), (163, 208), (19, 234), (24, 298), (24, 159), (134, 164), (230, 232), (89, 114), (109, 143), (23, 238), (46, 53), (122, 234), (6, 168), (30, 34), (33, 177), (40, 285), (162, 272), (159, 173), (145, 268), (0, 159), (256, 265), (151, 274), (9, 199), (16, 127), (166, 288), (78, 134), (6, 163), (268, 272), (89, 162), (176, 265), (164, 208), (21, 228), (116, 166), (122, 141), (163, 280), (10, 198), (124, 149), (206, 265), (9, 89), (102, 238), (103, 131), (107, 241), (37, 198), (132, 145), (176, 256), (216, 290), (88, 162), (15, 196), (163, 199), (273, 304), (3, 91), (39, 183), (116, 173), (262, 265), (33, 122), (167, 211), (44, 81), (134, 280), (62, 304), (121, 143), (29, 238), (123, 290), (56, 180), (19, 40), (47, 53), (89, 172), (21, 304), (23, 44), (118, 289), (102, 112), (29, 304), (23, 157), (122, 159), (145, 172), (83, 95), (45, 289), (176, 208), (102, 265), (33, 236), (94, 104), (7, 229), (10, 91), (180, 228), (114, 288), (132, 135), (6, 39), (290, 298), (5, 288), (8, 28), (173, 265), (141, 235), (78, 115), (123, 141), (199, 304), (149, 268), (5, 119), (59, 76), (25, 76), (35, 39), (47, 226), (69, 177), (76, 165), (232, 294), (127, 257), (164, 285), (81, 199), (3, 38), (176, 300), (15, 216), (19, 285), (9, 156), (63, 81), (48, 161), (77, 298), (21, 114), (10, 229), (101, 164), (46, 106), (7, 208), (102, 141), (268, 298), (112, 172), (49, 96), (4, 54), (115, 163), (10, 285), (251, 285), (274, 300), (166, 230), (104, 148), (36, 131), (38, 300), (27, 29), (102, 132), (121, 285), (125, 168), (3, 20), (25, 39), (216, 268), (110, 183), (95, 124), (24, 222), (77, 220), (6, 301), (227, 285), (124, 198), (77, 173), (121, 294), (179, 280), (34, 96), (16, 257), (162, 173), (21, 171)}\n",
            "\n",
            "Time taken:  0.009551763534545898  seconds.\n"
          ],
          "name": "stdout"
        }
      ]
    },
    {
      "cell_type": "markdown",
      "metadata": {
        "id": "OOGyV3_Y7i8N"
      },
      "source": [
        "Visualizing some of the results in Pandas:"
      ]
    },
    {
      "cell_type": "code",
      "metadata": {
        "colab": {
          "base_uri": "https://localhost:8080/",
          "height": 740
        },
        "id": "bwSLq0iqFEbN",
        "outputId": "3248b560-b273-4f2a-c770-e23fc4586a62"
      },
      "source": [
        "\n",
        "descriptions1 = []\n",
        "descriptions2 = []\n",
        "\n",
        "for pair in list(duplicate_pairs):\n",
        "  descriptions1.append(df['Description'].iloc[pair[0]])\n",
        "  descriptions2.append(df['Description'].iloc[pair[1]])\n",
        "\n",
        "duplicates_df = pd.DataFrame(\n",
        "    {'pair': list(duplicate_pairs),\n",
        "     'document1': descriptions1,\n",
        "     'document2': descriptions2\n",
        "    })\n",
        "\n",
        "\n",
        "duplicates_df.head(76)"
      ],
      "execution_count": null,
      "outputs": [
        {
          "output_type": "execute_result",
          "data": {
            "text/html": [
              "<div>\n",
              "<style scoped>\n",
              "    .dataframe tbody tr th:only-of-type {\n",
              "        vertical-align: middle;\n",
              "    }\n",
              "\n",
              "    .dataframe tbody tr th {\n",
              "        vertical-align: top;\n",
              "    }\n",
              "\n",
              "    .dataframe thead th {\n",
              "        text-align: right;\n",
              "    }\n",
              "</style>\n",
              "<table border=\"1\" class=\"dataframe\">\n",
              "  <thead>\n",
              "    <tr style=\"text-align: right;\">\n",
              "      <th></th>\n",
              "      <th>pair</th>\n",
              "      <th>document1</th>\n",
              "      <th>document2</th>\n",
              "    </tr>\n",
              "  </thead>\n",
              "  <tbody>\n",
              "    <tr>\n",
              "      <th>0</th>\n",
              "      <td>(140, 226)</td>\n",
              "      <td>AITOO Webcam HD 1080p con microfono, Full HD 1080P Webcam USB Pc Computer Camera con Microfono Driver Video Webcam per Insegnare Online Live Broadcast</td>\n",
              "      <td>KROSER Borsa del Portatile Cartella Leggera Espandibile Aggiornata da 18\" per Laptop 17.3\" Borsa da Lavoro Premium Borsa Messenger Idrorepellente con Tasche RFID per Scuola/Viaggio/Donna/Uomo-Nero</td>\n",
              "    </tr>\n",
              "    <tr>\n",
              "      <th>1</th>\n",
              "      <td>(19, 304)</td>\n",
              "      <td>PC Computer Desktop Gaming Entry Level Fujitsu Esprimo P710 Windows 10 Professional Intel Core i5-3470S Memoria Ram 8GB DDR3 Hard Disk 500GB DVD-ROM USB 3.0 GeForce GT710 2GB (Ricondizionato)</td>\n",
              "      <td>Lenovo IdeaCentre AIO A340-24IWL Computer desktop All-in-One con Processore Intel Core i5-8265U, 8 GB di RAM, 128 GB SSD, 1 TB HDD, masterizzatore DVD, Intel UHD, Windows 10 Home 64, nero</td>\n",
              "    </tr>\n",
              "    <tr>\n",
              "      <th>2</th>\n",
              "      <td>(98, 203)</td>\n",
              "      <td>VistaProtect – Filtro Anti Luce Blu Premium per Schermo Laptop PC, Rimovibile (13.3\" Pollici)</td>\n",
              "      <td>Elekin Supporto per Computer Portatile,Supporto per Laptop Ventilato in Alluminio,Supporto PC Portatile 6 Livelli Angolazione Regolabile Pieghevole Supporto per PC/iPad/Notebook/Tablet,10-17\"</td>\n",
              "    </tr>\n",
              "    <tr>\n",
              "      <th>3</th>\n",
              "      <td>(116, 158)</td>\n",
              "      <td>Logitech M185 Mouse Wireless, 2.4 GHz con Mini Ricevitore USB, Durata Batteria Fino a 12 Mesi, Rilevamento Ottico 1000 DPI, Ambidestro, PC/Mac/Laptop, Grigio</td>\n",
              "      <td>Acer Nitro 5 AN515-54-55CQ Notebook Gaming, Intel Core i5-9300H, Ram 8 GB, 512 GB PCIe NVMe SSD, Display 15.6\" FHD IPS 60 Hz LCD, Nvidia GeForce GTX 1650 4 GB GDDR5, No Sistema Operativo</td>\n",
              "    </tr>\n",
              "    <tr>\n",
              "      <th>4</th>\n",
              "      <td>(7, 25)</td>\n",
              "      <td>HP – PC 15s-eq0021nl Notebook, AMD Ryzen 3, RAM 8 GB, SSD 256 GB, Grafica AMD Radeon Vega 3, Windows 10 Home S, Schermo 15” FHD SVA Antiriflesso, Micro-Edge, Fast Charge, Lettore SD/Micro SD, Argento</td>\n",
              "      <td>HP-PC Pavilion 14-ce3034nl Notebook, Intel Core i5-1035G1, RAM 8 GB, SSD 512 GB, Grafica UHD Intel, Windows 10 Home, Schermo 14\" FHD Antiriflesso, Lettore Impronte Digitali, Lettore Micro SD, Argento</td>\n",
              "    </tr>\n",
              "    <tr>\n",
              "      <th>...</th>\n",
              "      <td>...</td>\n",
              "      <td>...</td>\n",
              "      <td>...</td>\n",
              "    </tr>\n",
              "    <tr>\n",
              "      <th>71</th>\n",
              "      <td>(159, 177)</td>\n",
              "      <td>Lenovo ThinkBook 15 Grigio Computer Portatile 39,6 cm (15.6\") 1920 x 1080 Pixel Intel® Core i7 di Decima Generazione 16 GB DDR4-SDRAM 512 GB SSD Wi-Fi 6 (802.11ax) ThinkBook 15, Intel®</td>\n",
              "      <td>Acer Aspire 3 A315-56-582U Computer Portatile Nero 39,6 cm (15.6\") 1920 x 1080 Pixel Intel® Core i5 di Decima Generazione 8 GB DDR4-SDRAM 1000 GB SSD Wi-Fi 5 (802.11ac) Windows 10 Home</td>\n",
              "    </tr>\n",
              "    <tr>\n",
              "      <th>72</th>\n",
              "      <td>(166, 173)</td>\n",
              "      <td>Beelink BT3PRO II Mini PC, Mini Computer Desktop con HDMI e VGA, Processore Intel Atom X5-Z8350, WiFi da 4GB+64GB, 2,4G/5,8G Dual Band, BT 4.0, 4K, 1000 Mbps LAN, Supporto Windows 10</td>\n",
              "      <td>Acer Aspire C24-320 Computer Fisso All in One, Pc Desktop con Processore AMD A9 A9-9425, Ram 8 GB DDR4, 256 GB M.2 SATA SSD, Display 23.8\" FHD IPS, AMD Radeon R5, Wireless Lan, Windows 10 Home</td>\n",
              "    </tr>\n",
              "    <tr>\n",
              "      <th>73</th>\n",
              "      <td>(115, 141)</td>\n",
              "      <td>Lenovo V V15 Grigio Computer portatile 39,6 cm [15.6\"] 1920 x 1080 Pixel Intel® Core™ i3 di ottava generazione 8 GB DDR4-SDRAM 256 GB SSD Wi-Fi 5</td>\n",
              "      <td>DELL Latitude 5500 Nero Computer portatile 39,6 cm (15.6\") 1920 x 1080 Pixel Intel® Core™ i7 di ottava generazione i7-8665U 16 GB DDR4-SDRAM 512 GB SSD</td>\n",
              "    </tr>\n",
              "    <tr>\n",
              "      <th>74</th>\n",
              "      <td>(23, 300)</td>\n",
              "      <td>HP - PC Pavilion 15-cw1085nl Notebook, AMD Ryzen 5 3500U, RAM 8 GB, SSD 512 GB, Grafica AMD Radeon Vega 8, Windows 10 Home, Schermo 15.6\" FHD IPS, Lettore Micro SD, HDMI, USB-C, RJ-45, Webcam, Argento</td>\n",
              "      <td>HP - PC Pavilion 15-eh0000sl Notebook, AMD Ryzen 5 4500U, RAM 8 GB, SSD 512 GB, Grafica AMD Graphics, Windows 10 Home, Schermo 15.6\" FHD IPS, Lettore Impronte digitali, Webcam, Argento</td>\n",
              "    </tr>\n",
              "    <tr>\n",
              "      <th>75</th>\n",
              "      <td>(81, 304)</td>\n",
              "      <td>ASUS Chromebook C434TA-AI0367, Notebook Convertibile in alluminio con Monitor 14\" FHD Touchscreen Glossy, Intel Core m3-8100Y, RAM 8GB LPDDR3, 128G eMMC, Sistema operativo Chrome, Argento</td>\n",
              "      <td>Lenovo IdeaCentre AIO A340-24IWL Computer desktop All-in-One con Processore Intel Core i5-8265U, 8 GB di RAM, 128 GB SSD, 1 TB HDD, masterizzatore DVD, Intel UHD, Windows 10 Home 64, nero</td>\n",
              "    </tr>\n",
              "  </tbody>\n",
              "</table>\n",
              "<p>76 rows × 3 columns</p>\n",
              "</div>"
            ],
            "text/plain": [
              "          pair  ...                                                                                                                                                                                                document2\n",
              "0   (140, 226)  ...  KROSER Borsa del Portatile Cartella Leggera Espandibile Aggiornata da 18\" per Laptop 17.3\" Borsa da Lavoro Premium Borsa Messenger Idrorepellente con Tasche RFID per Scuola/Viaggio/Donna/Uomo-Nero   \n",
              "1   (19, 304)   ...  Lenovo IdeaCentre AIO A340-24IWL Computer desktop All-in-One con Processore Intel Core i5-8265U, 8 GB di RAM, 128 GB SSD, 1 TB HDD, masterizzatore DVD, Intel UHD, Windows 10 Home 64, nero            \n",
              "2   (98, 203)   ...  Elekin Supporto per Computer Portatile,Supporto per Laptop Ventilato in Alluminio,Supporto PC Portatile 6 Livelli Angolazione Regolabile Pieghevole Supporto per PC/iPad/Notebook/Tablet,10-17\"        \n",
              "3   (116, 158)  ...  Acer Nitro 5 AN515-54-55CQ Notebook Gaming, Intel Core i5-9300H, Ram 8 GB, 512 GB PCIe NVMe SSD, Display 15.6\" FHD IPS 60 Hz LCD, Nvidia GeForce GTX 1650 4 GB GDDR5, No Sistema Operativo             \n",
              "4   (7, 25)     ...  HP-PC Pavilion 14-ce3034nl Notebook, Intel Core i5-1035G1, RAM 8 GB, SSD 512 GB, Grafica UHD Intel, Windows 10 Home, Schermo 14\" FHD Antiriflesso, Lettore Impronte Digitali, Lettore Micro SD, Argento\n",
              "..      ...     ...                                                                                                                                                                                                      ...\n",
              "71  (159, 177)  ...  Acer Aspire 3 A315-56-582U Computer Portatile Nero 39,6 cm (15.6\") 1920 x 1080 Pixel Intel® Core i5 di Decima Generazione 8 GB DDR4-SDRAM 1000 GB SSD Wi-Fi 5 (802.11ac) Windows 10 Home               \n",
              "72  (166, 173)  ...  Acer Aspire C24-320 Computer Fisso All in One, Pc Desktop con Processore AMD A9 A9-9425, Ram 8 GB DDR4, 256 GB M.2 SATA SSD, Display 23.8\" FHD IPS, AMD Radeon R5, Wireless Lan, Windows 10 Home       \n",
              "73  (115, 141)  ...  DELL Latitude 5500 Nero Computer portatile 39,6 cm (15.6\") 1920 x 1080 Pixel Intel® Core™ i7 di ottava generazione i7-8665U 16 GB DDR4-SDRAM 512 GB SSD                                                \n",
              "74  (23, 300)   ...  HP - PC Pavilion 15-eh0000sl Notebook, AMD Ryzen 5 4500U, RAM 8 GB, SSD 512 GB, Grafica AMD Graphics, Windows 10 Home, Schermo 15.6\" FHD IPS, Lettore Impronte digitali, Webcam, Argento               \n",
              "75  (81, 304)   ...  Lenovo IdeaCentre AIO A340-24IWL Computer desktop All-in-One con Processore Intel Core i5-8265U, 8 GB di RAM, 128 GB SSD, 1 TB HDD, masterizzatore DVD, Intel UHD, Windows 10 Home 64, nero            \n",
              "\n",
              "[76 rows x 3 columns]"
            ]
          },
          "metadata": {
            "tags": []
          },
          "execution_count": 195
        }
      ]
    },
    {
      "cell_type": "markdown",
      "metadata": {
        "id": "yHKUsGpII-E9"
      },
      "source": [
        "## Finding duplicates comparing the all pairs of shingle sets"
      ]
    },
    {
      "cell_type": "code",
      "metadata": {
        "colab": {
          "base_uri": "https://localhost:8080/"
        },
        "id": "WeIU6vV6GCCK",
        "outputId": "11aee27a-0585-4825-9216-78a761e32625"
      },
      "source": [
        "nn = NearestNeighbors()\n",
        "\n",
        "print(\"Finding duplicate pairs...\")\n",
        "start_time = time.time()\n",
        "neighbor_pairs = nn.find_neighbors(sets)\n",
        "end_time = time.time()\n",
        "\n",
        "n_combinations = nn.n_combinations\n",
        "print(\"Computing similarity between \", n_combinations, \" pairs...\\n\")\n",
        "print(\"Time taken: \", end_time-start_time, \" seconds.\")\n",
        "print(\"There are \", len(neighbor_pairs), \" duplicates.\")\n",
        "print(\"\\nDuplicate pairs returned: \")\n",
        "print(neighbor_pairs)"
      ],
      "execution_count": null,
      "outputs": [
        {
          "output_type": "stream",
          "text": [
            "Finding duplicate pairs...\n",
            "Computing similarity between  46665  pairs...\n",
            "\n",
            "Time taken:  0.8941807746887207  seconds.\n",
            "There are  526  duplicates.\n",
            "\n",
            "Duplicate pairs returned: \n",
            "[(0, 173), (0, 177), (1, 30), (1, 34), (1, 96), (2, 151), (2, 236), (3, 10), (3, 11), (3, 124), (3, 134), (3, 199), (3, 208), (3, 230), (3, 265), (3, 288), (3, 300), (4, 21), (4, 37), (4, 63), (4, 72), (4, 171), (6, 11), (6, 20), (6, 173), (6, 186), (6, 300), (9, 20), (9, 25), (9, 76), (9, 81), (9, 114), (9, 151), (9, 199), (9, 230), (9, 236), (9, 274), (9, 300), (9, 301), (10, 23), (10, 46), (10, 134), (10, 186), (10, 199), (10, 208), (10, 230), (10, 262), (10, 265), (10, 275), (10, 285), (10, 288), (10, 300), (11, 23), (11, 134), (11, 158), (11, 163), (11, 208), (11, 300), (12, 124), (15, 24), (15, 77), (15, 123), (15, 157), (15, 177), (15, 216), (15, 268), (16, 302), (17, 199), (17, 265), (18, 265), (19, 29), (19, 62), (19, 97), (19, 103), (19, 198), (19, 234), (21, 63), (21, 171), (21, 300), (22, 177), (23, 25), (23, 134), (23, 136), (23, 163), (23, 164), (23, 186), (23, 199), (23, 208), (23, 262), (23, 265), (23, 300), (24, 51), (24, 177), (24, 216), (24, 268), (24, 296), (25, 37), (25, 76), (25, 136), (25, 179), (25, 199), (25, 262), (25, 274), (25, 300), (25, 301), (28, 151), (28, 189), (28, 236), (29, 57), (29, 62), (29, 97), (29, 101), (29, 103), (29, 198), (29, 234), (30, 34), (30, 96), (33, 151), (33, 236), (34, 49), (34, 96), (34, 126), (34, 233), (36, 38), (36, 102), (36, 119), (36, 131), (36, 142), (36, 149), (36, 166), (36, 189), (36, 230), (36, 265), (36, 288), (36, 304), (37, 81), (37, 114), (37, 179), (37, 288), (38, 119), (38, 142), (38, 189), (39, 44), (40, 109), (40, 121), (40, 143), (40, 285), (40, 302), (41, 284), (41, 289), (42, 55), (43, 82), (43, 231), (44, 186), (45, 54), (45, 118), (45, 177), (46, 173), (46, 230), (46, 304), (47, 48), (49, 126), (49, 233), (50, 200), (51, 123), (51, 177), (51, 216), (51, 296), (53, 117), (54, 118), (57, 97), (57, 103), (57, 198), (60, 108), (60, 111), (61, 137), (62, 97), (62, 103), (62, 198), (62, 234), (66, 224), (76, 262), (76, 288), (76, 300), (77, 88), (77, 89), (77, 132), (77, 141), (77, 145), (77, 157), (77, 159), (77, 162), (77, 165), (77, 177), (77, 188), (77, 196), (77, 216), (77, 222), (77, 235), (77, 247), (77, 268), (77, 272), (77, 290), (77, 296), (78, 89), (78, 115), (78, 141), (78, 145), (78, 159), (78, 165), (78, 247), (79, 219), (81, 114), (81, 151), (81, 179), (81, 236), (82, 231), (87, 111), (88, 102), (88, 123), (88, 132), (88, 149), (88, 157), (88, 196), (88, 216), (88, 222), (88, 268), (88, 272), (88, 290), (88, 296), (88, 298), (89, 112), (89, 115), (89, 157), (89, 159), (89, 162), (89, 165), (89, 177), (89, 188), (89, 216), (89, 235), (89, 247), (89, 296), (90, 130), (92, 125), (92, 293), (95, 255), (97, 101), (97, 103), (97, 198), (97, 234), (100, 244), (101, 124), (101, 198), (102, 149), (102, 157), (102, 196), (102, 216), (102, 222), (102, 272), (103, 198), (103, 234), (103, 304), (104, 148), (106, 167), (106, 211), (106, 285), (106, 302), (107, 207), (108, 111), (109, 121), (109, 143), (109, 167), (109, 285), (110, 183), (110, 210), (110, 282), (111, 237), (112, 159), (112, 165), (112, 172), (112, 296), (114, 151), (114, 179), (114, 236), (115, 141), (115, 145), (115, 159), (115, 165), (115, 247), (116, 256), (116, 262), (116, 285), (118, 177), (119, 142), (119, 189), (121, 285), (121, 302), (122, 141), (122, 145), (122, 162), (122, 177), (122, 188), (122, 220), (123, 132), (123, 157), (123, 159), (123, 177), (123, 196), (123, 216), (123, 222), (123, 268), (123, 272), (123, 296), (124, 142), (124, 288), (125, 293), (126, 233), (127, 228), (127, 276), (131, 160), (131, 209), (131, 280), (132, 141), (132, 145), (132, 157), (132, 196), (132, 216), (132, 222), (132, 268), (132, 272), (134, 136), (134, 148), (134, 158), (134, 163), (134, 164), (134, 176), (134, 208), (134, 229), (134, 230), (134, 288), (134, 300), (135, 169), (136, 160), (136, 163), (136, 164), (136, 199), (136, 208), (136, 209), (136, 230), (136, 280), (136, 288), (140, 302), (141, 145), (141, 157), (141, 159), (141, 177), (141, 220), (141, 235), (141, 268), (141, 290), (142, 288), (143, 285), (145, 157), (145, 159), (145, 177), (145, 220), (145, 235), (145, 268), (145, 290), (146, 240), (148, 160), (148, 164), (148, 208), (148, 209), (148, 230), (148, 280), (149, 157), (149, 196), (149, 216), (149, 222), (149, 272), (151, 236), (151, 265), (151, 275), (151, 300), (152, 292), (157, 159), (157, 165), (157, 177), (157, 196), (157, 216), (157, 222), (157, 268), (157, 272), (157, 290), (157, 296), (158, 173), (158, 208), (159, 162), (159, 165), (159, 188), (159, 216), (159, 247), (159, 296), (160, 209), (160, 280), (160, 288), (161, 226), (162, 165), (162, 177), (162, 188), (162, 220), (162, 247), (162, 296), (163, 164), (163, 208), (164, 176), (164, 208), (165, 177), (165, 188), (165, 216), (165, 235), (165, 247), (165, 296), (166, 173), (166, 189), (166, 230), (167, 206), (167, 211), (167, 285), (167, 302), (172, 296), (173, 186), (173, 230), (173, 262), (173, 304), (174, 195), (176, 208), (176, 230), (177, 188), (177, 216), (177, 220), (177, 268), (177, 296), (183, 210), (183, 282), (186, 300), (187, 291), (188, 220), (188, 247), (188, 296), (191, 215), (196, 216), (196, 222), (196, 268), (196, 272), (196, 290), (196, 296), (196, 298), (197, 227), (197, 294), (198, 234), (199, 288), (199, 300), (202, 248), (203, 237), (203, 254), (204, 252), (206, 302), (208, 229), (208, 230), (208, 288), (208, 300), (209, 280), (209, 288), (210, 282), (211, 285), (211, 302), (212, 238), (214, 229), (216, 222), (216, 268), (216, 272), (216, 290), (216, 296), (218, 253), (222, 268), (222, 272), (222, 290), (222, 296), (222, 298), (227, 294), (228, 276), (230, 243), (230, 251), (230, 265), (230, 288), (230, 304), (236, 265), (236, 275), (236, 300), (237, 254), (243, 251), (243, 288), (246, 299), (247, 296), (256, 262), (256, 285), (262, 300), (265, 275), (265, 288), (265, 300), (268, 272), (268, 290), (268, 296), (272, 290), (272, 296), (272, 298), (274, 300), (274, 301), (280, 288), (284, 289), (285, 302), (288, 304), (300, 301)]\n"
          ],
          "name": "stdout"
        }
      ]
    },
    {
      "cell_type": "code",
      "metadata": {
        "colab": {
          "base_uri": "https://localhost:8080/",
          "height": 790
        },
        "id": "xKdX8St3JHN_",
        "outputId": "9f971bbf-b039-4a3e-fb0c-05156c8a69bb"
      },
      "source": [
        "sim_scores_all = nn.scores\n",
        "descriptions1 = []\n",
        "descriptions2 = []\n",
        "\n",
        "for pair in neighbor_pairs:\n",
        "  descriptions1.append(df['Description'].iloc[pair[0]])\n",
        "  descriptions2.append(df['Description'].iloc[pair[1]])\n",
        "\n",
        "duplicates_df = pd.DataFrame(\n",
        "    {'pair': neighbor_pairs,\n",
        "     'jaccard_coeff': sim_scores_all,\n",
        "     'document1': descriptions1,\n",
        "     'document2': descriptions2\n",
        "    })\n",
        "\n",
        "duplicates_df = duplicates_df.sort_values(by=['jaccard_coeff'], ascending=False)\n",
        "duplicates_df.head(106)\n",
        "#duplicates_df.tail(10)"
      ],
      "execution_count": null,
      "outputs": [
        {
          "output_type": "execute_result",
          "data": {
            "text/html": [
              "<div>\n",
              "<style scoped>\n",
              "    .dataframe tbody tr th:only-of-type {\n",
              "        vertical-align: middle;\n",
              "    }\n",
              "\n",
              "    .dataframe tbody tr th {\n",
              "        vertical-align: top;\n",
              "    }\n",
              "\n",
              "    .dataframe thead th {\n",
              "        text-align: right;\n",
              "    }\n",
              "</style>\n",
              "<table border=\"1\" class=\"dataframe\">\n",
              "  <thead>\n",
              "    <tr style=\"text-align: right;\">\n",
              "      <th></th>\n",
              "      <th>pair</th>\n",
              "      <th>jaccard_coeff</th>\n",
              "      <th>document1</th>\n",
              "      <th>document2</th>\n",
              "    </tr>\n",
              "  </thead>\n",
              "  <tbody>\n",
              "    <tr>\n",
              "      <th>236</th>\n",
              "      <td>(89, 165)</td>\n",
              "      <td>1.000000</td>\n",
              "      <td>Apple MacBook Air Argento Computer Portatile 33,8 cm (13.3\") 2560 x 1600 Pixel Intel® Core i3 di Decima Generazione 8 GB LPDDR4x-SDRAM 256 GB SSD Wi-Fi 5 (802.11ac) macOS Catalina MacBook</td>\n",
              "      <td>Apple MacBook PRO Grigio Computer Portatile 33,8 cm (13.3\") 2560 x 1600 Pixel Intel® Core i5 di Decima Generazione 16 GB LPDDR4x-SDRAM 512 GB SSD Wi-Fi 5 (802.11ac) macOS Catalina MacBook</td>\n",
              "    </tr>\n",
              "    <tr>\n",
              "      <th>467</th>\n",
              "      <td>(203, 254)</td>\n",
              "      <td>1.000000</td>\n",
              "      <td>Elekin Supporto per Computer Portatile,Supporto per Laptop Ventilato in Alluminio,Supporto PC Portatile 6 Livelli Angolazione Regolabile Pieghevole Supporto per PC/iPad/Notebook/Tablet,10-17\"</td>\n",
              "      <td>Elekin Supporto per Computer Portatile,Supporto per Laptop Ventilato in Alluminio,Supporto PC Portatile 6 Livelli Angolazione Regolabile Pieghevole Supporto per PC/iPad/Notebook/Tablet,10-17\"</td>\n",
              "    </tr>\n",
              "    <tr>\n",
              "      <th>150</th>\n",
              "      <td>(42, 55)</td>\n",
              "      <td>1.000000</td>\n",
              "      <td>Virtual Revolution</td>\n",
              "      <td>Virtual Revolution</td>\n",
              "    </tr>\n",
              "    <tr>\n",
              "      <th>179</th>\n",
              "      <td>(62, 234)</td>\n",
              "      <td>1.000000</td>\n",
              "      <td>PC Computer Desktop HP Elite 8300, Windows 10 Professional, Intel Core i7-3770, Memoria Ram 8GB DDR3, SSD 120GB, DVD-ROM, USB 3.0 (Ricondizionato)</td>\n",
              "      <td>PC Computer Desktop HP Elite 8300, Windows 10 Professional, Intel Core i7-3770, Memoria Ram 8GB DDR3, SSD 120GB, DVD-ROM, USB 3.0 (Ricondizionato)</td>\n",
              "    </tr>\n",
              "    <tr>\n",
              "      <th>180</th>\n",
              "      <td>(66, 224)</td>\n",
              "      <td>1.000000</td>\n",
              "      <td>Lettore Masterizzatore Blu Ray Dvd, USB 3.0 Esterno Blu-Ray Portatile 3D CD Dvd RW Lettore Disco per Laptop/Desktop/MacBook, Win 7/8/10, Linux, PC</td>\n",
              "      <td>Lettore Masterizzatore Blu Ray Dvd, USB 3.0 Esterno Blu-Ray Portatile 3D CD Dvd RW Lettore Disco per Laptop/Desktop/MacBook, Win 7/8/10, Linux, PC</td>\n",
              "    </tr>\n",
              "    <tr>\n",
              "      <th>...</th>\n",
              "      <td>...</td>\n",
              "      <td>...</td>\n",
              "      <td>...</td>\n",
              "      <td>...</td>\n",
              "    </tr>\n",
              "    <tr>\n",
              "      <th>248</th>\n",
              "      <td>(97, 103)</td>\n",
              "      <td>0.918367</td>\n",
              "      <td>PC Computer Desktop Fujitsu Esprimo P720, Windows 10 Professional, Intel Core i5-4570S, Memoria Ram 8GB DDR3, SSD 240GB + HDD 500GB, DVD-ROM (Ricondizionato)</td>\n",
              "      <td>PC Computer Desktop Tower HP Elite 8200, Windows 10 Professional, Intel Core i5-2400, Memoria Ram 8GB DDR3, SSD 120GB + HDD 500GB, DVD-ROM (Ricondizionato)</td>\n",
              "    </tr>\n",
              "    <tr>\n",
              "      <th>129</th>\n",
              "      <td>(36, 166)</td>\n",
              "      <td>0.909091</td>\n",
              "      <td>Beelink BT3 Pro II Mini PC Support Windows 10, Intel Atom x5-Z8350 Processor 4GB Ram 64GB Rom Graphics HD 400, 1000Mbps LAN MINI Computer con 5.8G+2.4G WiFi HDMI+VGA Outputs/Bluetooth 4.0/USB 3.0</td>\n",
              "      <td>Beelink BT3PRO II Mini PC, Mini Computer Desktop con HDMI e VGA, Processore Intel Atom X5-Z8350, WiFi da 4GB+64GB, 2,4G/5,8G Dual Band, BT 4.0, 4K, 1000 Mbps LAN, Supporto Windows 10</td>\n",
              "    </tr>\n",
              "    <tr>\n",
              "      <th>482</th>\n",
              "      <td>(216, 268)</td>\n",
              "      <td>0.909091</td>\n",
              "      <td>msi Gaming GS66 10SFS-056 Stealth Nero Computer Portatile 39,6 cm (15.6\") 1920 x 1080 Pixel Intel® Core i9 di Decima Generazione 16 GB DDR4-SDRAM 1000 GB SSD NVIDIA GeForce RTX 2070 Super Wi-Fi 6</td>\n",
              "      <td>msi Gaming GE75 10SFS-067 Raider Alluminio, Nero Computer Portatile 43,9 cm (17.3\") 1920 x 1080 Pixel Intel® Core i9 di Decima Generazione 16 GB DDR4-SDRAM 1512 GB HDD+SSD NVIDIA GeForce RTX 2070</td>\n",
              "    </tr>\n",
              "    <tr>\n",
              "      <th>103</th>\n",
              "      <td>(25, 300)</td>\n",
              "      <td>0.901961</td>\n",
              "      <td>HP-PC Pavilion 14-ce3034nl Notebook, Intel Core i5-1035G1, RAM 8 GB, SSD 512 GB, Grafica UHD Intel, Windows 10 Home, Schermo 14\" FHD Antiriflesso, Lettore Impronte Digitali, Lettore Micro SD, Argento</td>\n",
              "      <td>HP - PC Pavilion 15-eh0000sl Notebook, AMD Ryzen 5 4500U, RAM 8 GB, SSD 512 GB, Grafica AMD Graphics, Windows 10 Home, Schermo 15.6\" FHD IPS, Lettore Impronte digitali, Webcam, Argento</td>\n",
              "    </tr>\n",
              "    <tr>\n",
              "      <th>392</th>\n",
              "      <td>(157, 222)</td>\n",
              "      <td>0.892857</td>\n",
              "      <td>MSI Gaming GS66 10SGS-205 Stealth Nero Computer Portatile 39,6 cm (15.6\") 1920 x 1080 Pixel Intel® Core i7 di Decima Generazione 16 GB DDR4-SDRAM 1000 GB SSD NVIDIA GeForce RTX 2080 Super Wi-Fi 6</td>\n",
              "      <td>HP OMEN 17-cb1087ng Computer Portatile Nero 43,9 cm (17.3\") 1920 x 1080 Pixel Intel® Core i7 di Decima Generazione 32 GB DDR4-SDRAM 1512 GB HDD+SSD NVIDIA GeForce RTX 2080 Super Wi-Fi 6 (802.11ax)</td>\n",
              "    </tr>\n",
              "  </tbody>\n",
              "</table>\n",
              "<p>106 rows × 4 columns</p>\n",
              "</div>"
            ],
            "text/plain": [
              "           pair  ...                                                                                                                                                                                             document2\n",
              "236  (89, 165)   ...  Apple MacBook PRO Grigio Computer Portatile 33,8 cm (13.3\") 2560 x 1600 Pixel Intel® Core i5 di Decima Generazione 16 GB LPDDR4x-SDRAM 512 GB SSD Wi-Fi 5 (802.11ac) macOS Catalina MacBook         \n",
              "467  (203, 254)  ...  Elekin Supporto per Computer Portatile,Supporto per Laptop Ventilato in Alluminio,Supporto PC Portatile 6 Livelli Angolazione Regolabile Pieghevole Supporto per PC/iPad/Notebook/Tablet,10-17\"     \n",
              "150  (42, 55)    ...  Virtual Revolution                                                                                                                                                                                  \n",
              "179  (62, 234)   ...  PC Computer Desktop HP Elite 8300, Windows 10 Professional, Intel Core i7-3770, Memoria Ram 8GB DDR3, SSD 120GB, DVD-ROM, USB 3.0 (Ricondizionato)                                                  \n",
              "180  (66, 224)   ...  Lettore Masterizzatore Blu Ray Dvd, USB 3.0 Esterno Blu-Ray Portatile 3D CD Dvd RW Lettore Disco per Laptop/Desktop/MacBook, Win 7/8/10, Linux, PC                                                  \n",
              "..         ...   ...                                                                                                                                                 ...                                                  \n",
              "248  (97, 103)   ...  PC Computer Desktop Tower HP Elite 8200, Windows 10 Professional, Intel Core i5-2400, Memoria Ram 8GB DDR3, SSD 120GB + HDD 500GB, DVD-ROM (Ricondizionato)                                         \n",
              "129  (36, 166)   ...  Beelink BT3PRO II Mini PC, Mini Computer Desktop con HDMI e VGA, Processore Intel Atom X5-Z8350, WiFi da 4GB+64GB, 2,4G/5,8G Dual Band, BT 4.0, 4K, 1000 Mbps LAN, Supporto Windows 10              \n",
              "482  (216, 268)  ...  msi Gaming GE75 10SFS-067 Raider Alluminio, Nero Computer Portatile 43,9 cm (17.3\") 1920 x 1080 Pixel Intel® Core i9 di Decima Generazione 16 GB DDR4-SDRAM 1512 GB HDD+SSD NVIDIA GeForce RTX 2070 \n",
              "103  (25, 300)   ...  HP - PC Pavilion 15-eh0000sl Notebook, AMD Ryzen 5 4500U, RAM 8 GB, SSD 512 GB, Grafica AMD Graphics, Windows 10 Home, Schermo 15.6\" FHD IPS, Lettore Impronte digitali, Webcam, Argento            \n",
              "392  (157, 222)  ...  HP OMEN 17-cb1087ng Computer Portatile Nero 43,9 cm (17.3\") 1920 x 1080 Pixel Intel® Core i7 di Decima Generazione 32 GB DDR4-SDRAM 1512 GB HDD+SSD NVIDIA GeForce RTX 2080 Super Wi-Fi 6 (802.11ax)\n",
              "\n",
              "[106 rows x 4 columns]"
            ]
          },
          "metadata": {
            "tags": []
          },
          "execution_count": 197
        }
      ]
    },
    {
      "cell_type": "markdown",
      "metadata": {
        "id": "QtXu1gGd0y0S"
      },
      "source": [
        "## Comparing results\n",
        "\n",
        "- **False positives** are docs that are detected as duplicates by LSH but not comparing all pairs;\n",
        "- **False negatives** are docs that are not detected as duplicated by LSH, but are detected comparing all pairs.\n",
        "\n",
        "We try to balance the presence of false positives and false negatives, but giving higher importance to the minimization of false negatives (because we can always post filter results to remove false positives, checking the similarity on the signatures, while false negatives can not be retrieved in any way using LSH).\n",
        "\n",
        "\n",
        "In this case precision and fscore are not really good metrics, since they do not take into account the false negatives. For example, having 4000 false positives is not a huge problem compared to the number of all the combinations of pairs."
      ]
    },
    {
      "cell_type": "code",
      "metadata": {
        "colab": {
          "base_uri": "https://localhost:8080/"
        },
        "id": "vYFrQgPV7Hpq",
        "outputId": "aae79cde-cb58-41fb-8ae9-39ffcaaa353d"
      },
      "source": [
        "true_positives = []\n",
        "false_negatives = []\n",
        "\n",
        "#neighbor_pairs are the result of computing jaccard between every pair\n",
        "#duplicate_pairs are the result of LSH\n",
        "\n",
        "for pair in neighbor_pairs:\n",
        "  if pair in duplicate_pairs:\n",
        "    true_positives.append(pair)\n",
        "  else:\n",
        "    false_negatives.append(pair)\n",
        "\n",
        "TP = len(true_positives) #true positives\n",
        "FN = len(false_negatives) #false negatives\n",
        "FP = len(duplicate_pairs)-TP #false positives\n",
        "TN = n_combinations - FP - FN - TP #true negatives\n",
        "\n",
        "recall = TP / (TP + FN)\n",
        "precision = TP / (TP+FP)\n",
        "f_score = 2 * precision * recall / (precision + recall)\n",
        "accuracy = (TP+TN) / (n_combinations)\n",
        "\n",
        "print(\"Size of the intersection (true positives): \", TP )\n",
        "print(\"Size of false negatives: \", FN )\n",
        "print(\"Size of false positives: \", FP)\n",
        "print(\"Size of true negatives: \", TN)\n",
        "\n",
        "print(\"\\nPrecision = \", precision)\n",
        "print(\"Recall = \", recall)\n",
        "print(\"F1-Score = \", f_score)\n",
        "print(\"Accuracy = \", accuracy)"
      ],
      "execution_count": null,
      "outputs": [
        {
          "output_type": "stream",
          "text": [
            "Size of the intersection (true positives):  428\n",
            "Size of false negatives:  98\n",
            "Size of false positives:  1380\n",
            "Size of true negatives:  44759\n",
            "\n",
            "Precision =  0.23672566371681417\n",
            "Recall =  0.8136882129277566\n",
            "F1-Score =  0.3667523564695801\n",
            "Accuracy =  0.9683274402657238\n"
          ],
          "name": "stdout"
        }
      ]
    },
    {
      "cell_type": "code",
      "metadata": {
        "colab": {
          "base_uri": "https://localhost:8080/"
        },
        "id": "CKoR8ZQmfgA6",
        "outputId": "c7e3ce54-9d93-451a-eeec-6678b3e2c204"
      },
      "source": [
        "print((true_positives))"
      ],
      "execution_count": null,
      "outputs": [
        {
          "output_type": "stream",
          "text": [
            "[(0, 36), (0, 68), (1, 194), (3, 46), (3, 53), (3, 67), (3, 86), (3, 132), (3, 169), (4, 67), (4, 183), (5, 6), (5, 14), (5, 18), (5, 25), (5, 26), (5, 33), (5, 68), (5, 83), (5, 88), (5, 95), (5, 101), (5, 113), (5, 119), (5, 172), (5, 237), (6, 12), (6, 15), (6, 22), (6, 30), (6, 42), (6, 78), (7, 11), (7, 145), (8, 59), (8, 67), (10, 194), (11, 62), (11, 83), (11, 101), (11, 113), (11, 119), (11, 145), (11, 181), (12, 30), (13, 81), (13, 155), (14, 26), (14, 33), (14, 45), (14, 47), (14, 61), (14, 62), (14, 83), (14, 87), (14, 88), (14, 93), (14, 95), (14, 113), (14, 135), (14, 181), (14, 223), (15, 24), (15, 56), (15, 101), (16, 110), (16, 168), (17, 45), (17, 49), (17, 51), (17, 62), (17, 93), (17, 118), (17, 135), (17, 222), (18, 26), (18, 61), (18, 113), (19, 95), (19, 119), (19, 194), (19, 201), (19, 237), (20, 94), (22, 172), (22, 201), (23, 143), (24, 32), (24, 56), (24, 78), (24, 181), (24, 194), (25, 43), (25, 84), (25, 95), (25, 172), (25, 201), (26, 33), (26, 83), (26, 108), (26, 118), (26, 237), (28, 194), (29, 64), (29, 206), (30, 42), (32, 49), (32, 83), (32, 101), (32, 119), (32, 136), (32, 181), (32, 194), (33, 60), (33, 67), (33, 83), (33, 95), (33, 154), (33, 169), (33, 172), (33, 223), (33, 226), (35, 182), (38, 224), (43, 68), (43, 84), (43, 95), (43, 113), (43, 153), (43, 172), (43, 201), (43, 238), (45, 61), (45, 62), (45, 93), (45, 135), (45, 181), (45, 222), (45, 223), (46, 48), (46, 67), (46, 98), (46, 114), (46, 131), (46, 132), (46, 169), (47, 51), (47, 62), (47, 87), (47, 113), (47, 118), (47, 130), (47, 135), (47, 160), (47, 181), (47, 223), (48, 58), (48, 67), (48, 73), (48, 79), (48, 82), (48, 85), (48, 115), (48, 132), (48, 149), (48, 159), (48, 166), (48, 169), (48, 185), (48, 210), (49, 101), (49, 237), (50, 58), (50, 72), (50, 82), (50, 159), (51, 62), (51, 93), (51, 113), (51, 118), (51, 135), (51, 181), (51, 222), (51, 223), (52, 53), (52, 98), (53, 73), (53, 86), (53, 131), (53, 169), (56, 101), (58, 79), (58, 82), (58, 85), (58, 132), (58, 149), (58, 159), (58, 169), (58, 185), (59, 67), (59, 169), (60, 194), (61, 62), (61, 68), (61, 119), (61, 126), (61, 135), (61, 154), (61, 181), (61, 209), (61, 222), (61, 223), (62, 68), (62, 87), (62, 88), (62, 93), (62, 113), (62, 130), (62, 135), (62, 141), (62, 181), (62, 222), (64, 206), (64, 208), (66, 88), (66, 237), (67, 86), (67, 98), (67, 132), (67, 154), (67, 169), (68, 83), (68, 90), (68, 95), (68, 113), (68, 119), (68, 172), (68, 181), (68, 201), (68, 222), (68, 238), (73, 115), (73, 132), (73, 166), (73, 199), (73, 210), (74, 90), (74, 94), (75, 236), (79, 82), (79, 85), (79, 159), (79, 185), (81, 155), (82, 85), (82, 86), (82, 131), (82, 132), (82, 159), (82, 177), (82, 183), (82, 185), (83, 88), (83, 93), (83, 95), (83, 101), (83, 113), (83, 119), (83, 135), (83, 181), (83, 237), (84, 95), (84, 113), (84, 153), (84, 172), (84, 194), (84, 201), (84, 238), (85, 159), (85, 169), (85, 185), (86, 132), (86, 148), (86, 154), (86, 169), (86, 177), (87, 107), (88, 93), (88, 101), (88, 113), (88, 119), (88, 181), (88, 237), (90, 94), (90, 148), (90, 167), (90, 188), (90, 224), (93, 101), (93, 113), (93, 118), (93, 126), (93, 135), (93, 181), (93, 209), (93, 222), (94, 103), (95, 101), (95, 113), (95, 153), (95, 172), (95, 181), (95, 201), (95, 238), (98, 131), (98, 154), (98, 169), (101, 113), (101, 119), (101, 135), (101, 237), (103, 148), (103, 194), (105, 190), (107, 130), (107, 235), (108, 172), (108, 238), (110, 168), (111, 228), (113, 119), (113, 172), (113, 181), (113, 201), (113, 222), (113, 237), (115, 132), (115, 154), (115, 166), (115, 183), (115, 188), (115, 210), (119, 181), (120, 186), (122, 213), (126, 209), (130, 235), (131, 132), (131, 154), (131, 169), (132, 154), (132, 159), (132, 166), (132, 169), (132, 188), (132, 210), (133, 142), (133, 144), (135, 181), (135, 222), (141, 222), (142, 144), (148, 154), (148, 169), (149, 159), (153, 172), (153, 201), (153, 238), (154, 166), (154, 169), (154, 188), (154, 210), (155, 174), (159, 169), (159, 185), (166, 183), (166, 188), (166, 210), (169, 185), (172, 201), (172, 238), (174, 218), (174, 220), (175, 217), (177, 183), (181, 222), (181, 223), (183, 210), (188, 199), (188, 210), (201, 238), (208, 239), (218, 220), (230, 236)]\n"
          ],
          "name": "stdout"
        }
      ]
    }
  ]
}